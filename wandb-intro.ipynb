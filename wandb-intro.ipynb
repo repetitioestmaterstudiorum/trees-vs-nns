{
 "cells": [
  {
   "cell_type": "code",
   "execution_count": 1,
   "metadata": {},
   "outputs": [
    {
     "name": "stderr",
     "output_type": "stream",
     "text": [
      "Failed to detect the name of this notebook, you can set it manually with the WANDB_NOTEBOOK_NAME environment variable to enable code saving.\n",
      "\u001b[34m\u001b[1mwandb\u001b[0m: Currently logged in as: \u001b[33membereagle\u001b[0m. Use \u001b[1m`wandb login --relogin`\u001b[0m to force relogin\n"
     ]
    },
    {
     "data": {
      "text/html": [
       "Tracking run with wandb version 0.13.9"
      ],
      "text/plain": [
       "<IPython.core.display.HTML object>"
      ]
     },
     "metadata": {},
     "output_type": "display_data"
    },
    {
     "data": {
      "text/html": [
       "Run data is saved locally in <code>/Users/sunyamare/st/code/trees-vs-nns/wandb/run-20230115_194535-4ef3g0a9</code>"
      ],
      "text/plain": [
       "<IPython.core.display.HTML object>"
      ]
     },
     "metadata": {},
     "output_type": "display_data"
    },
    {
     "data": {
      "text/html": [
       "Syncing run <strong><a href=\"https://wandb.ai/embereagle/wandb-intro/runs/4ef3g0a9\" target=\"_blank\">experiment_run_0</a></strong> to <a href=\"https://wandb.ai/embereagle/wandb-intro\" target=\"_blank\">Weights & Biases</a> (<a href=\"https://wandb.me/run\" target=\"_blank\">docs</a>)<br/>"
      ],
      "text/plain": [
       "<IPython.core.display.HTML object>"
      ]
     },
     "metadata": {},
     "output_type": "display_data"
    },
    {
     "data": {
      "text/html": [
       " View project at <a href=\"https://wandb.ai/embereagle/wandb-intro\" target=\"_blank\">https://wandb.ai/embereagle/wandb-intro</a>"
      ],
      "text/plain": [
       "<IPython.core.display.HTML object>"
      ]
     },
     "metadata": {},
     "output_type": "display_data"
    },
    {
     "data": {
      "text/html": [
       " View run at <a href=\"https://wandb.ai/embereagle/wandb-intro/runs/4ef3g0a9\" target=\"_blank\">https://wandb.ai/embereagle/wandb-intro/runs/4ef3g0a9</a>"
      ],
      "text/plain": [
       "<IPython.core.display.HTML object>"
      ]
     },
     "metadata": {},
     "output_type": "display_data"
    },
    {
     "data": {
      "text/html": [
       "Waiting for W&B process to finish... <strong style=\"color:green\">(success).</strong>"
      ],
      "text/plain": [
       "<IPython.core.display.HTML object>"
      ]
     },
     "metadata": {},
     "output_type": "display_data"
    }
   ],
   "source": [
    "# import wandb\n",
    "\n",
    "# wandb.init(project=\"trees-vs-nns\")\n",
    "\n",
    "# wandb.config = {\n",
    "#   \"learning_rate\": 0.001,\n",
    "#   \"epochs\": 100,\n",
    "#   \"batch_size\": 128\n",
    "# }\n",
    "\n",
    "# # wandb.log({\"loss\": loss})\n",
    "# wandb.log({'accuracy': train_acc, 'loss': train_loss})\n",
    "# wandb.config.dropout = 0.2\n",
    "\n",
    "# # Optional\n",
    "# wandb.watch(model)\n",
    "\n",
    "# wandb.alert(\n",
    "#     title=\"Low accuracy\",\n",
    "#     text=f\"Accuracy {train_acc} is below the acceptable threshold {thresh}\"\n",
    "# )\n",
    "\n",
    "import wandb\n",
    "import random\n",
    "\n",
    "# Launch 5 simulated experiments\n",
    "total_runs = 5\n",
    "for run in range(total_runs):\n",
    "    # 🐝 1️⃣ Start a new run to track this script\n",
    "    wandb_config = {\n",
    "        \"learning_rate\": 0.02,\n",
    "        \"architecture\": \"random\",\n",
    "        \"dataset\": \"none\",\n",
    "        \"epochs\": 10,\n",
    "    }\n",
    "\n",
    "    wandb.init(\n",
    "        # Set the project where this run will be logged\n",
    "        project=\"wandb-intro\",\n",
    "        # We pass a run name (otherwise it’ll be randomly assigned, like sunshine-lollypop-10)\n",
    "        name=f\"experiment_run_{run}\",\n",
    "        # Track hyperparameters and run metadata\n",
    "        config=wandb_config,\n",
    "    )\n",
    "\n",
    "    # This simple block simulates a training loop logging metrics\n",
    "    epochs = 10\n",
    "    offset = random.random() / 5\n",
    "    for epoch in range(2, epochs):\n",
    "        acc = 1 - 2**-epoch - random.random() / epoch - offset\n",
    "        loss = 2**-epoch + random.random() / epoch + offset\n",
    "\n",
    "        # 🐝 2️⃣ Log metrics from your script to W&B\n",
    "        wandb.log({\"acc\": acc, \"loss\": loss})\n",
    "\n",
    "    # Mark the run as finished\n",
    "    wandb.finish()\n"
   ]
  },
  {
   "cell_type": "code",
   "execution_count": null,
   "metadata": {},
   "outputs": [],
   "source": []
  }
 ],
 "metadata": {
  "kernelspec": {
   "display_name": "gputorch",
   "language": "python",
   "name": "python3"
  },
  "language_info": {
   "codemirror_mode": {
    "name": "ipython",
    "version": 3
   },
   "file_extension": ".py",
   "mimetype": "text/x-python",
   "name": "python",
   "nbconvert_exporter": "python",
   "pygments_lexer": "ipython3",
   "version": "3.10.8"
  },
  "orig_nbformat": 4,
  "vscode": {
   "interpreter": {
    "hash": "2dbbb6cd59b3dbdf4da55c2d28b7f7ae42791a8b99736a7739fce4258f4b207c"
   }
  }
 },
 "nbformat": 4,
 "nbformat_minor": 2
}
