{
 "cells": [
  {
   "cell_type": "code",
   "execution_count": 59,
   "metadata": {},
   "outputs": [
    {
     "name": "stderr",
     "output_type": "stream",
     "text": [
      "[nltk_data] Downloading package punkt to /Users/sunyamare/nltk_data...\n",
      "[nltk_data]   Package punkt is already up-to-date!\n",
      "[nltk_data] Downloading package wordnet to\n",
      "[nltk_data]     /Users/sunyamare/nltk_data...\n",
      "[nltk_data]   Package wordnet is already up-to-date!\n"
     ]
    }
   ],
   "source": [
    "import pandas as pd\n",
    "import numpy as np\n",
    "from sklearn.feature_extraction.text import TfidfVectorizer, CountVectorizer\n",
    "from sklearn.linear_model import LogisticRegression\n",
    "from sklearn.naive_bayes import MultinomialNB\n",
    "from sklearn.ensemble import RandomForestClassifier, GradientBoostingClassifier\n",
    "from sklearn.metrics import accuracy_score, confusion_matrix\n",
    "from sklearn.utils.class_weight import compute_sample_weight\n",
    "from sklearn.preprocessing import OneHotEncoder\n",
    "from sklearn.preprocessing import LabelEncoder\n",
    "import re\n",
    "import nltk\n",
    "from nltk.corpus import stopwords\n",
    "from nltk.stem import WordNetLemmatizer \n",
    "from nltk.tokenize import TweetTokenizer\n",
    "nltk.download('punkt')\n",
    "nltk.download('wordnet')\n",
    "from xgboost import XGBClassifier"
   ]
  },
  {
   "cell_type": "code",
   "execution_count": 60,
   "metadata": {},
   "outputs": [],
   "source": [
    "random_state = 8"
   ]
  },
  {
   "cell_type": "code",
   "execution_count": 61,
   "metadata": {},
   "outputs": [],
   "source": [
    "def get_df(dataset_name, dropna=True, fillna_value=''):\n",
    "    df = pd.read_csv(f\"data/{dataset_name}.csv\")\n",
    "    \n",
    "    if dropna:\n",
    "        df.dropna(inplace=True)\n",
    "    else:\n",
    "        df.fillna(fillna_value, inplace=True)\n",
    "\n",
    "    df.drop(['ID'], axis=1, inplace=True) # remove useless data\n",
    "\n",
    "    df['Rating'] = df['Rating'] - 1 # make y 0-indexed\n",
    "    return df"
   ]
  },
  {
   "cell_type": "code",
   "execution_count": 62,
   "metadata": {},
   "outputs": [],
   "source": [
    "df_train = get_df('train', dropna=True)\n",
    "df_valid = get_df('valid', dropna=False)\n",
    "df_test = get_df('test', dropna=False)"
   ]
  },
  {
   "cell_type": "code",
   "execution_count": 63,
   "metadata": {},
   "outputs": [
    {
     "data": {
      "text/html": [
       "<div>\n",
       "<style scoped>\n",
       "    .dataframe tbody tr th:only-of-type {\n",
       "        vertical-align: middle;\n",
       "    }\n",
       "\n",
       "    .dataframe tbody tr th {\n",
       "        vertical-align: top;\n",
       "    }\n",
       "\n",
       "    .dataframe thead th {\n",
       "        text-align: right;\n",
       "    }\n",
       "</style>\n",
       "<table border=\"1\" class=\"dataframe\">\n",
       "  <thead>\n",
       "    <tr style=\"text-align: right;\">\n",
       "      <th></th>\n",
       "      <th>Clothing ID</th>\n",
       "      <th>Age</th>\n",
       "      <th>Title</th>\n",
       "      <th>Review Text</th>\n",
       "      <th>Rating</th>\n",
       "      <th>Recommended IND</th>\n",
       "      <th>Positive Feedback Count</th>\n",
       "      <th>Division Name</th>\n",
       "      <th>Department Name</th>\n",
       "      <th>Class Name</th>\n",
       "    </tr>\n",
       "  </thead>\n",
       "  <tbody>\n",
       "    <tr>\n",
       "      <th>2</th>\n",
       "      <td>1049</td>\n",
       "      <td>50</td>\n",
       "      <td>My favorite buy!</td>\n",
       "      <td>I love, love, love this jumpsuit. it's fun, fl...</td>\n",
       "      <td>4</td>\n",
       "      <td>1</td>\n",
       "      <td>0</td>\n",
       "      <td>General Petite</td>\n",
       "      <td>Bottoms</td>\n",
       "      <td>Pants</td>\n",
       "    </tr>\n",
       "    <tr>\n",
       "      <th>3</th>\n",
       "      <td>847</td>\n",
       "      <td>47</td>\n",
       "      <td>Flattering shirt</td>\n",
       "      <td>This shirt is very flattering to all due to th...</td>\n",
       "      <td>4</td>\n",
       "      <td>1</td>\n",
       "      <td>6</td>\n",
       "      <td>General</td>\n",
       "      <td>Tops</td>\n",
       "      <td>Blouses</td>\n",
       "    </tr>\n",
       "    <tr>\n",
       "      <th>4</th>\n",
       "      <td>858</td>\n",
       "      <td>39</td>\n",
       "      <td>Cagrcoal shimmer fun</td>\n",
       "      <td>I aded this in my basket at hte last mintue to...</td>\n",
       "      <td>4</td>\n",
       "      <td>1</td>\n",
       "      <td>1</td>\n",
       "      <td>General Petite</td>\n",
       "      <td>Tops</td>\n",
       "      <td>Knits</td>\n",
       "    </tr>\n",
       "  </tbody>\n",
       "</table>\n",
       "</div>"
      ],
      "text/plain": [
       "   Clothing ID  Age                 Title  \\\n",
       "2         1049   50      My favorite buy!   \n",
       "3          847   47      Flattering shirt   \n",
       "4          858   39  Cagrcoal shimmer fun   \n",
       "\n",
       "                                         Review Text  Rating  Recommended IND  \\\n",
       "2  I love, love, love this jumpsuit. it's fun, fl...       4                1   \n",
       "3  This shirt is very flattering to all due to th...       4                1   \n",
       "4  I aded this in my basket at hte last mintue to...       4                1   \n",
       "\n",
       "   Positive Feedback Count   Division Name Department Name Class Name  \n",
       "2                        0  General Petite         Bottoms      Pants  \n",
       "3                        6         General            Tops    Blouses  \n",
       "4                        1  General Petite            Tops      Knits  "
      ]
     },
     "execution_count": 63,
     "metadata": {},
     "output_type": "execute_result"
    }
   ],
   "source": [
    "df_train.head(3)"
   ]
  },
  {
   "cell_type": "code",
   "execution_count": 64,
   "metadata": {},
   "outputs": [
    {
     "name": "stdout",
     "output_type": "stream",
     "text": [
      "<class 'pandas.core.frame.DataFrame'>\n",
      "Int64Index: 15763 entries, 2 to 18789\n",
      "Data columns (total 10 columns):\n",
      " #   Column                   Non-Null Count  Dtype \n",
      "---  ------                   --------------  ----- \n",
      " 0   Clothing ID              15763 non-null  int64 \n",
      " 1   Age                      15763 non-null  int64 \n",
      " 2   Title                    15763 non-null  object\n",
      " 3   Review Text              15763 non-null  object\n",
      " 4   Rating                   15763 non-null  int64 \n",
      " 5   Recommended IND          15763 non-null  int64 \n",
      " 6   Positive Feedback Count  15763 non-null  int64 \n",
      " 7   Division Name            15763 non-null  object\n",
      " 8   Department Name          15763 non-null  object\n",
      " 9   Class Name               15763 non-null  object\n",
      "dtypes: int64(5), object(5)\n",
      "memory usage: 1.3+ MB\n"
     ]
    }
   ],
   "source": [
    "df_train.info()"
   ]
  },
  {
   "cell_type": "code",
   "execution_count": 65,
   "metadata": {},
   "outputs": [
    {
     "data": {
      "text/plain": [
       "<AxesSubplot: >"
      ]
     },
     "execution_count": 65,
     "metadata": {},
     "output_type": "execute_result"
    },
    {
     "data": {
      "image/png": "[encoded data removed]",
      "text/plain": [
       "<Figure size 640x480 with 1 Axes>"
      ]
     },
     "metadata": {},
     "output_type": "display_data"
    }
   ],
   "source": [
    "df_train['Rating'].hist()"
   ]
  },
  {
   "cell_type": "code",
   "execution_count": 66,
   "metadata": {},
   "outputs": [],
   "source": [
    "tokenizer = TweetTokenizer()\n",
    "stop_words = set(stopwords.words(\"english\"))\n",
    "keep_stop_words = ['not', 'no', 'against', 'above', 'below']\n",
    "for word in keep_stop_words:\n",
    "    stop_words.remove(word)\n",
    "lemmatizer = WordNetLemmatizer()\n",
    "\n",
    "def tokenize_text(text: str):\n",
    "    if (not isinstance(text, str)):\n",
    "        raise ValueError(f\"The text {text} isn't a string!\")\n",
    "\n",
    "    # Change 't to 'not'\n",
    "    text = re.sub(r\"n\\'t\", \" not\", text)\n",
    "    # Remove punctuation except '!'\n",
    "    text = re.sub(r\"[^\\w\\s!]\", \"\", text)\n",
    "    # Remove numbers\n",
    "    text = re.sub(r\"[^\\D\\s!]\", \"\", text)\n",
    "    \n",
    "    text = text.lower()\n",
    "\n",
    "    word_tokens = tokenizer.tokenize(text)\n",
    "\n",
    "    filtered_words_tokens = [w for w in word_tokens if not w in stop_words]\n",
    "\n",
    "    lemmatized_text = [lemmatizer.lemmatize(w) for w in filtered_words_tokens]\n",
    "    \n",
    "    return ' '.join(lemmatized_text)"
   ]
  },
  {
   "cell_type": "code",
   "execution_count": 67,
   "metadata": {},
   "outputs": [],
   "source": [
    "def get_tokenized_X(X):\n",
    "    return [tokenize_text(text) for text in X]"
   ]
  },
  {
   "cell_type": "code",
   "execution_count": 68,
   "metadata": {},
   "outputs": [],
   "source": [
    "def get_tfidf_vectorizer(X_train, ngram_range=(1, 1), max_features=None):\n",
    "    # settings inspired by https://www.linkedin.com/pulse/another-twitter-sentiment-analysis-python-part-5-tfidf-ricky-kim/\n",
    "    # TODO consider options: max_df=0.9, min_df=2\n",
    "    tfidf_vectorizer = TfidfVectorizer(ngram_range=ngram_range, max_features=max_features)\n",
    "    tfidf_vectorizer.fit(get_tokenized_X(X_train))\n",
    "\n",
    "    return tfidf_vectorizer"
   ]
  },
  {
   "cell_type": "code",
   "execution_count": 69,
   "metadata": {},
   "outputs": [],
   "source": [
    "def get_count_vectorizer(X_train, ngram_range=(1, 1)):\n",
    "    count_vectorizer = CountVectorizer(ngram_range=ngram_range)\n",
    "    count_vectorizer.fit(get_tokenized_X(X_train))\n",
    "\n",
    "    return count_vectorizer"
   ]
  },
  {
   "cell_type": "code",
   "execution_count": 70,
   "metadata": {},
   "outputs": [],
   "source": [
    "def get_vectorized_X(X, vectorizer):\n",
    "    tokenized_X = get_tokenized_X(X)\n",
    "\n",
    "    vectorized_X = vectorizer.transform(tokenized_X)\n",
    "\n",
    "    return vectorized_X.toarray()"
   ]
  },
  {
   "cell_type": "code",
   "execution_count": 71,
   "metadata": {},
   "outputs": [],
   "source": [
    "def get_df_tokenizer_applied(df, columns):\n",
    "    df = df.copy()\n",
    "    for column in columns:\n",
    "        print(f\"Applying tokenize_text() to column {column}\")\n",
    "        df[column] = df[column].apply(tokenize_text)\n",
    "    return df"
   ]
  },
  {
   "cell_type": "code",
   "execution_count": 72,
   "metadata": {},
   "outputs": [
    {
     "name": "stdout",
     "output_type": "stream",
     "text": [
      "Applying tokenize_text() to column Title\n",
      "Applying tokenize_text() to column Review Text\n",
      "Applying tokenize_text() to column Title\n",
      "Applying tokenize_text() to column Review Text\n",
      "Applying tokenize_text() to column Title\n",
      "Applying tokenize_text() to column Review Text\n"
     ]
    }
   ],
   "source": [
    "df_train_pp = get_df_tokenizer_applied(df_train, ['Title', 'Review Text'])\n",
    "df_valid_pp = get_df_tokenizer_applied(df_valid, ['Title', 'Review Text'])\n",
    "df_test_pp = get_df_tokenizer_applied(df_test, ['Title', 'Review Text'])"
   ]
  },
  {
   "cell_type": "code",
   "execution_count": 73,
   "metadata": {},
   "outputs": [
    {
     "data": {
      "text/html": [
       "<div>\n",
       "<style scoped>\n",
       "    .dataframe tbody tr th:only-of-type {\n",
       "        vertical-align: middle;\n",
       "    }\n",
       "\n",
       "    .dataframe tbody tr th {\n",
       "        vertical-align: top;\n",
       "    }\n",
       "\n",
       "    .dataframe thead th {\n",
       "        text-align: right;\n",
       "    }\n",
       "</style>\n",
       "<table border=\"1\" class=\"dataframe\">\n",
       "  <thead>\n",
       "    <tr style=\"text-align: right;\">\n",
       "      <th></th>\n",
       "      <th>Clothing ID</th>\n",
       "      <th>Age</th>\n",
       "      <th>Title</th>\n",
       "      <th>Review Text</th>\n",
       "      <th>Rating</th>\n",
       "      <th>Recommended IND</th>\n",
       "      <th>Positive Feedback Count</th>\n",
       "      <th>Division Name</th>\n",
       "      <th>Department Name</th>\n",
       "      <th>Class Name</th>\n",
       "    </tr>\n",
       "  </thead>\n",
       "  <tbody>\n",
       "    <tr>\n",
       "      <th>2</th>\n",
       "      <td>1049</td>\n",
       "      <td>50</td>\n",
       "      <td>favorite buy !</td>\n",
       "      <td>love love love jumpsuit fun flirty fabulous ! ...</td>\n",
       "      <td>4</td>\n",
       "      <td>1</td>\n",
       "      <td>0</td>\n",
       "      <td>General Petite</td>\n",
       "      <td>Bottoms</td>\n",
       "      <td>Pants</td>\n",
       "    </tr>\n",
       "    <tr>\n",
       "      <th>3</th>\n",
       "      <td>847</td>\n",
       "      <td>47</td>\n",
       "      <td>flattering shirt</td>\n",
       "      <td>shirt flattering due adjustable front tie perf...</td>\n",
       "      <td>4</td>\n",
       "      <td>1</td>\n",
       "      <td>6</td>\n",
       "      <td>General</td>\n",
       "      <td>Tops</td>\n",
       "      <td>Blouses</td>\n",
       "    </tr>\n",
       "    <tr>\n",
       "      <th>4</th>\n",
       "      <td>858</td>\n",
       "      <td>39</td>\n",
       "      <td>cagrcoal shimmer fun</td>\n",
       "      <td>aded basket hte last mintue see would look lik...</td>\n",
       "      <td>4</td>\n",
       "      <td>1</td>\n",
       "      <td>1</td>\n",
       "      <td>General Petite</td>\n",
       "      <td>Tops</td>\n",
       "      <td>Knits</td>\n",
       "    </tr>\n",
       "  </tbody>\n",
       "</table>\n",
       "</div>"
      ],
      "text/plain": [
       "   Clothing ID  Age                 Title  \\\n",
       "2         1049   50        favorite buy !   \n",
       "3          847   47      flattering shirt   \n",
       "4          858   39  cagrcoal shimmer fun   \n",
       "\n",
       "                                         Review Text  Rating  Recommended IND  \\\n",
       "2  love love love jumpsuit fun flirty fabulous ! ...       4                1   \n",
       "3  shirt flattering due adjustable front tie perf...       4                1   \n",
       "4  aded basket hte last mintue see would look lik...       4                1   \n",
       "\n",
       "   Positive Feedback Count   Division Name Department Name Class Name  \n",
       "2                        0  General Petite         Bottoms      Pants  \n",
       "3                        6         General            Tops    Blouses  \n",
       "4                        1  General Petite            Tops      Knits  "
      ]
     },
     "execution_count": 73,
     "metadata": {},
     "output_type": "execute_result"
    }
   ],
   "source": [
    "df_train_pp.head(3)"
   ]
  },
  {
   "attachments": {},
   "cell_type": "markdown",
   "metadata": {},
   "source": [
    "---"
   ]
  },
  {
   "cell_type": "code",
   "execution_count": 74,
   "metadata": {},
   "outputs": [],
   "source": [
    "def get_ohe_for_df_column(df_column):\n",
    "    ohe_column = OneHotEncoder(handle_unknown='ignore', sparse_output=False)\n",
    "    ohe_column.fit(df_column.to_numpy().reshape(-1, 1))\n",
    "    return ohe_column"
   ]
  },
  {
   "cell_type": "code",
   "execution_count": 75,
   "metadata": {},
   "outputs": [],
   "source": [
    "ohe_divisionname = get_ohe_for_df_column(df_train_pp['Division Name'])\n",
    "ohe_departmentname = get_ohe_for_df_column(df_train_pp['Department Name'])\n",
    "ohe_classname = get_ohe_for_df_column(df_train_pp['Class Name'])"
   ]
  },
  {
   "cell_type": "code",
   "execution_count": 76,
   "metadata": {},
   "outputs": [],
   "source": [
    "def get_df_with_ohe_column(df, ohe_column_name, ohe):\n",
    "    ohe_column_encoded = ohe.transform(df[ohe_column_name].to_numpy().reshape(-1, 1))\n",
    "\n",
    "    ohe_df = pd.DataFrame(ohe_column_encoded.tolist(), columns=ohe.get_feature_names_out(input_features=[ohe_column_name]), dtype=int)\n",
    "    # reset_index() is necessary here: https://stackoverflow.com/questions/50368145/pandas-concat-increases-number-of-rows\n",
    "    # drop=True as well: https://stackoverflow.com/questions/12203901/pandas-crashes-on-repeated-dataframe-reset-index\n",
    "    new_df = pd.concat([df.reset_index(drop=True), ohe_df], axis=1).drop([ohe_column_name], axis=1)\n",
    "\n",
    "    return new_df"
   ]
  },
  {
   "cell_type": "code",
   "execution_count": 77,
   "metadata": {},
   "outputs": [],
   "source": [
    "def get_df_with_ohe_columns(df):\n",
    "    df = get_df_with_ohe_column(df, 'Division Name', ohe_divisionname)\n",
    "    df = get_df_with_ohe_column(df, 'Department Name', ohe_departmentname)\n",
    "    df = get_df_with_ohe_column(df, 'Class Name', ohe_classname)\n",
    "    \n",
    "    return df"
   ]
  },
  {
   "cell_type": "code",
   "execution_count": 78,
   "metadata": {},
   "outputs": [
    {
     "data": {
      "text/html": [
       "<div>\n",
       "<style scoped>\n",
       "    .dataframe tbody tr th:only-of-type {\n",
       "        vertical-align: middle;\n",
       "    }\n",
       "\n",
       "    .dataframe tbody tr th {\n",
       "        vertical-align: top;\n",
       "    }\n",
       "\n",
       "    .dataframe thead th {\n",
       "        text-align: right;\n",
       "    }\n",
       "</style>\n",
       "<table border=\"1\" class=\"dataframe\">\n",
       "  <thead>\n",
       "    <tr style=\"text-align: right;\">\n",
       "      <th></th>\n",
       "      <th>Clothing ID</th>\n",
       "      <th>Age</th>\n",
       "      <th>Title</th>\n",
       "      <th>Review Text</th>\n",
       "      <th>Rating</th>\n",
       "      <th>Recommended IND</th>\n",
       "      <th>Positive Feedback Count</th>\n",
       "      <th>Division Name_General</th>\n",
       "      <th>Division Name_General Petite</th>\n",
       "      <th>Division Name_Initmates</th>\n",
       "      <th>...</th>\n",
       "      <th>Class Name_Legwear</th>\n",
       "      <th>Class Name_Lounge</th>\n",
       "      <th>Class Name_Outerwear</th>\n",
       "      <th>Class Name_Pants</th>\n",
       "      <th>Class Name_Shorts</th>\n",
       "      <th>Class Name_Skirts</th>\n",
       "      <th>Class Name_Sleep</th>\n",
       "      <th>Class Name_Sweaters</th>\n",
       "      <th>Class Name_Swim</th>\n",
       "      <th>Class Name_Trend</th>\n",
       "    </tr>\n",
       "  </thead>\n",
       "  <tbody>\n",
       "    <tr>\n",
       "      <th>0</th>\n",
       "      <td>1049</td>\n",
       "      <td>50</td>\n",
       "      <td>favorite buy !</td>\n",
       "      <td>love love love jumpsuit fun flirty fabulous ! ...</td>\n",
       "      <td>4</td>\n",
       "      <td>1</td>\n",
       "      <td>0</td>\n",
       "      <td>0</td>\n",
       "      <td>1</td>\n",
       "      <td>0</td>\n",
       "      <td>...</td>\n",
       "      <td>0</td>\n",
       "      <td>0</td>\n",
       "      <td>0</td>\n",
       "      <td>1</td>\n",
       "      <td>0</td>\n",
       "      <td>0</td>\n",
       "      <td>0</td>\n",
       "      <td>0</td>\n",
       "      <td>0</td>\n",
       "      <td>0</td>\n",
       "    </tr>\n",
       "    <tr>\n",
       "      <th>1</th>\n",
       "      <td>847</td>\n",
       "      <td>47</td>\n",
       "      <td>flattering shirt</td>\n",
       "      <td>shirt flattering due adjustable front tie perf...</td>\n",
       "      <td>4</td>\n",
       "      <td>1</td>\n",
       "      <td>6</td>\n",
       "      <td>1</td>\n",
       "      <td>0</td>\n",
       "      <td>0</td>\n",
       "      <td>...</td>\n",
       "      <td>0</td>\n",
       "      <td>0</td>\n",
       "      <td>0</td>\n",
       "      <td>0</td>\n",
       "      <td>0</td>\n",
       "      <td>0</td>\n",
       "      <td>0</td>\n",
       "      <td>0</td>\n",
       "      <td>0</td>\n",
       "      <td>0</td>\n",
       "    </tr>\n",
       "    <tr>\n",
       "      <th>2</th>\n",
       "      <td>858</td>\n",
       "      <td>39</td>\n",
       "      <td>cagrcoal shimmer fun</td>\n",
       "      <td>aded basket hte last mintue see would look lik...</td>\n",
       "      <td>4</td>\n",
       "      <td>1</td>\n",
       "      <td>1</td>\n",
       "      <td>0</td>\n",
       "      <td>1</td>\n",
       "      <td>0</td>\n",
       "      <td>...</td>\n",
       "      <td>0</td>\n",
       "      <td>0</td>\n",
       "      <td>0</td>\n",
       "      <td>0</td>\n",
       "      <td>0</td>\n",
       "      <td>0</td>\n",
       "      <td>0</td>\n",
       "      <td>0</td>\n",
       "      <td>0</td>\n",
       "      <td>0</td>\n",
       "    </tr>\n",
       "  </tbody>\n",
       "</table>\n",
       "<p>3 rows × 36 columns</p>\n",
       "</div>"
      ],
      "text/plain": [
       "   Clothing ID  Age                 Title  \\\n",
       "0         1049   50        favorite buy !   \n",
       "1          847   47      flattering shirt   \n",
       "2          858   39  cagrcoal shimmer fun   \n",
       "\n",
       "                                         Review Text  Rating  Recommended IND  \\\n",
       "0  love love love jumpsuit fun flirty fabulous ! ...       4                1   \n",
       "1  shirt flattering due adjustable front tie perf...       4                1   \n",
       "2  aded basket hte last mintue see would look lik...       4                1   \n",
       "\n",
       "   Positive Feedback Count  Division Name_General  \\\n",
       "0                        0                      0   \n",
       "1                        6                      1   \n",
       "2                        1                      0   \n",
       "\n",
       "   Division Name_General Petite  Division Name_Initmates  ...  \\\n",
       "0                             1                        0  ...   \n",
       "1                             0                        0  ...   \n",
       "2                             1                        0  ...   \n",
       "\n",
       "   Class Name_Legwear  Class Name_Lounge  Class Name_Outerwear  \\\n",
       "0                   0                  0                     0   \n",
       "1                   0                  0                     0   \n",
       "2                   0                  0                     0   \n",
       "\n",
       "   Class Name_Pants  Class Name_Shorts  Class Name_Skirts  Class Name_Sleep  \\\n",
       "0                 1                  0                  0                 0   \n",
       "1                 0                  0                  0                 0   \n",
       "2                 0                  0                  0                 0   \n",
       "\n",
       "   Class Name_Sweaters  Class Name_Swim  Class Name_Trend  \n",
       "0                    0                0                 0  \n",
       "1                    0                0                 0  \n",
       "2                    0                0                 0  \n",
       "\n",
       "[3 rows x 36 columns]"
      ]
     },
     "execution_count": 78,
     "metadata": {},
     "output_type": "execute_result"
    }
   ],
   "source": [
    "do_categorical_value_ohe = True\n",
    "\n",
    "if (do_categorical_value_ohe):\n",
    "    df_train_wo_cat = get_df_with_ohe_columns(df_train_pp)\n",
    "    df_valid_wo_cat = get_df_with_ohe_columns(df_valid_pp)\n",
    "    df_test_wo_cat = get_df_with_ohe_columns(df_test_pp)\n",
    "else:\n",
    "    df_train_wo_cat = df_train_pp.drop(['Division Name', 'Department Name', 'Class Name'], axis=1)\n",
    "    df_valid_wo_cat = df_valid_pp.drop(['Division Name', 'Department Name', 'Class Name'], axis=1)\n",
    "    df_test_wo_cat = df_test_pp.drop(['Division Name', 'Department Name', 'Class Name'], axis=1)\n",
    "\n",
    "df_train_wo_cat.head(3)"
   ]
  },
  {
   "attachments": {},
   "cell_type": "markdown",
   "metadata": {},
   "source": [
    "---"
   ]
  },
  {
   "cell_type": "code",
   "execution_count": 79,
   "metadata": {},
   "outputs": [],
   "source": [
    "# title_vectorizer = get_tfidf_vectorizer(df_train_wo_cat['Title'], (1, 3)) # 0.618\n",
    "# title_vectorizer = get_tfidf_vectorizer(df_train_wo_cat['Title'], (1, 3), 10000) # 0.622\n",
    "# title_vectorizer = get_tfidf_vectorizer(df_train_wo_cat['Title'], (1, 3), 7000) # 0.619\n",
    "# title_vectorizer = get_tfidf_vectorizer(df_train_wo_cat['Title'], (1, 3), 4000) # 0.617\n",
    "# title_vectorizer = get_tfidf_vectorizer(df_train_wo_cat['Title'], (1, 3), 1000) # 0.615\n",
    "# title_vectorizer = get_tfidf_vectorizer(df_train_wo_cat['Title'], (1, 3), 15000) # 0.617\n",
    "# title_vectorizer = get_tfidf_vectorizer(df_train_wo_cat['Title'], (1, 3), 20000) # 0.617\n",
    "# title_vectorizer = get_tfidf_vectorizer(df_train_wo_cat['Title'], (1, 3), 8500) # 0.623\n",
    "# title_vectorizer = get_tfidf_vectorizer(df_train_wo_cat['Title'], (1, 3), 9000) # 0.622\n",
    "# title_vectorizer = get_tfidf_vectorizer(df_train_wo_cat['Title'], (1, 3), 8000) # 0.623\n",
    "# title_vectorizer = get_tfidf_vectorizer(df_train_wo_cat['Title'], (1, 3), 7500) # 0.622\n",
    "# title_vectorizer = get_tfidf_vectorizer(df_train_wo_cat['Title'], (1, 3), 8250) # 0.622\n",
    "title_vectorizer = get_tfidf_vectorizer(df_train_wo_cat['Title'], (1, 3), 8000)\n",
    "\n",
    "# reviewtext_vectorizer = get_tfidf_vectorizer(df_train_wo_cat['Review Text'], (1, 2), 8000) # 0.636\n",
    "# reviewtext_vectorizer = get_tfidf_vectorizer(df_train_wo_cat['Review Text'], (1, 2), 5000) # 0.632\n",
    "# reviewtext_vectorizer = get_tfidf_vectorizer(df_train_wo_cat['Review Text'], (1, 2), 3000) # 0.635\n",
    "# reviewtext_vectorizer = get_tfidf_vectorizer(df_train_wo_cat['Review Text'], (1, 2), 1000) # 0.635\n",
    "# reviewtext_vectorizer = get_tfidf_vectorizer(df_train_wo_cat['Review Text'], (1, 2), 500) # 0.627\n",
    "# reviewtext_vectorizer = get_tfidf_vectorizer(df_train_wo_cat['Review Text'], (1, 2), 10000) # 0.639\n",
    "# reviewtext_vectorizer = get_tfidf_vectorizer(df_train_wo_cat['Review Text'], (1, 2), 15000) # 0.640\n",
    "# reviewtext_vectorizer = get_tfidf_vectorizer(df_train_wo_cat['Review Text'], (1, 2), 20000) # 0.639\n",
    "# reviewtext_vectorizer = get_tfidf_vectorizer(df_train_wo_cat['Review Text'], (1, 2), 25000) # 0.639\n",
    "# reviewtext_vectorizer = get_tfidf_vectorizer(df_train_wo_cat['Review Text'], (1, 2), 17500) # 0.640\n",
    "# reviewtext_vectorizer = get_tfidf_vectorizer(df_train_wo_cat['Review Text'], (1, 2), 12500) # 0.641\n",
    "# reviewtext_vectorizer = get_tfidf_vectorizer(df_train_wo_cat['Review Text'], (1, 2), 14000) # 0.642\n",
    "# reviewtext_vectorizer = get_tfidf_vectorizer(df_train_wo_cat['Review Text'], (1, 2), 14500) # 0.640\n",
    "# reviewtext_vectorizer = get_tfidf_vectorizer(df_train_wo_cat['Review Text'], (1, 2), 13000) # 0.643\n",
    "# reviewtext_vectorizer = get_tfidf_vectorizer(df_train_wo_cat['Review Text'], (1, 2), 13500) # 0.640\n",
    "reviewtext_vectorizer = get_tfidf_vectorizer(df_train_wo_cat['Review Text'], (1, 2), 13000)"
   ]
  },
  {
   "cell_type": "code",
   "execution_count": 80,
   "metadata": {},
   "outputs": [],
   "source": [
    "X_train_title = get_vectorized_X(df_train_wo_cat['Title'], title_vectorizer)\n",
    "X_valid_title = get_vectorized_X(df_valid_wo_cat['Title'], title_vectorizer)\n",
    "\n",
    "X_train_reviewtext = get_vectorized_X(df_train_wo_cat['Review Text'], reviewtext_vectorizer)\n",
    "X_valid_reviewtext = get_vectorized_X(df_valid_wo_cat['Review Text'], reviewtext_vectorizer)"
   ]
  },
  {
   "cell_type": "code",
   "execution_count": 81,
   "metadata": {},
   "outputs": [],
   "source": [
    "y_train_title = df_train_wo_cat['Rating'].tolist()\n",
    "y_valid_title = df_valid_wo_cat['Rating'].tolist()\n",
    "\n",
    "y_train_reviewtext = df_train_wo_cat['Rating'].tolist()\n",
    "y_valid_reviewtext = df_valid_wo_cat['Rating'].tolist()"
   ]
  },
  {
   "cell_type": "code",
   "execution_count": 82,
   "metadata": {},
   "outputs": [
    {
     "name": "stdout",
     "output_type": "stream",
     "text": [
      "15763 15763\n",
      "2348 2348\n"
     ]
    }
   ],
   "source": [
    "print(len(X_train_title), len(y_train_title))\n",
    "print(len(X_valid_title), len(y_valid_title))"
   ]
  },
  {
   "cell_type": "code",
   "execution_count": 83,
   "metadata": {},
   "outputs": [],
   "source": [
    "# nb_title = MultinomialNB() # Accuracy:  0.5936967632027257\n",
    "# nb_title.fit(X_train_title, y_train_title)\n",
    "# y_pred_title = nb_title.predict(X_valid_title)\n",
    "# accuracy = accuracy_score(y_valid_title, y_pred_title)\n",
    "# print(\"Naive Bayes 'Title Sentiment' Accuracy: \", accuracy)"
   ]
  },
  {
   "cell_type": "code",
   "execution_count": 84,
   "metadata": {},
   "outputs": [
    {
     "name": "stdout",
     "output_type": "stream",
     "text": [
      "Logistic Regression 'Title Sentiment' Accuracy:  0.623083475298126\n"
     ]
    }
   ],
   "source": [
    "logreg_title = LogisticRegression(random_state=random_state, solver=\"saga\", max_iter=200) # Accuracy:  0.618824531516184\n",
    "logreg_title.fit(X_train_title, y_train_title)\n",
    "y_pred_title = logreg_title.predict(X_valid_title)\n",
    "accuracy = accuracy_score(y_valid_title, y_pred_title)\n",
    "print(\"Logistic Regression 'Title Sentiment' Accuracy: \", accuracy)"
   ]
  },
  {
   "cell_type": "code",
   "execution_count": 85,
   "metadata": {},
   "outputs": [],
   "source": [
    "# nb_reviewtext = MultinomialNB() # Accuracy:  0.608\n",
    "# nb_reviewtext.fit(X_train_reviewtext, y_train_reviewtext)\n",
    "# y_pred_reviewtext = nb_reviewtext.predict(X_valid_reviewtext)\n",
    "# accuracy = accuracy_score(y_valid_reviewtext, y_pred_reviewtext)\n",
    "# print(\"Naive Bayes 'Review Text' Accuracy: \", accuracy)"
   ]
  },
  {
   "cell_type": "code",
   "execution_count": 86,
   "metadata": {},
   "outputs": [],
   "source": [
    "# xgb_reviewtext = XGBClassifier(random_state=random_state, objective='multi:softmax') # Accuracy:  0.615 (3.5m runtime) with 8000 features\n",
    "# xgb_reviewtext.fit(X_train_reviewtext, y_train_reviewtext)\n",
    "# y_pred_reviewtext = xgb_reviewtext.predict(X_valid_reviewtext)\n",
    "# accuracy = accuracy_score(y_valid_reviewtext, y_pred_reviewtext)\n",
    "# print(\"XGBoost 'Review Text Sentiment' Accuracy: \", accuracy)"
   ]
  },
  {
   "cell_type": "code",
   "execution_count": 87,
   "metadata": {},
   "outputs": [
    {
     "name": "stdout",
     "output_type": "stream",
     "text": [
      "Logistic Regression 'Review Text Sentiment' Accuracy:  0.6431005110732538\n"
     ]
    }
   ],
   "source": [
    "logreg_reviewtext = LogisticRegression(random_state=random_state, solver=\"saga\", max_iter=200) # Accuracy:  0.618824531516184\n",
    "logreg_reviewtext.fit(X_train_reviewtext, y_train_reviewtext)\n",
    "y_pred_reviewtext = logreg_reviewtext.predict(X_valid_reviewtext)\n",
    "accuracy = accuracy_score(y_valid_reviewtext, y_pred_reviewtext)\n",
    "print(\"Logistic Regression 'Review Text Sentiment' Accuracy: \", accuracy)"
   ]
  },
  {
   "cell_type": "code",
   "execution_count": 88,
   "metadata": {},
   "outputs": [
    {
     "data": {
      "text/plain": [
       "(2348, 13000)"
      ]
     },
     "execution_count": 88,
     "metadata": {},
     "output_type": "execute_result"
    }
   ],
   "source": [
    "X_valid_reviewtext.shape # (2348, 212416)"
   ]
  },
  {
   "attachments": {},
   "cell_type": "markdown",
   "metadata": {},
   "source": [
    "---"
   ]
  },
  {
   "cell_type": "code",
   "execution_count": 89,
   "metadata": {},
   "outputs": [],
   "source": [
    "def preprocess_df(df: pd.DataFrame):\n",
    "    vectorized_title = title_vectorizer.transform(df['Title']).toarray()\n",
    "    df['Title Sentiment'] = logreg_title.predict(vectorized_title)\n",
    "    # df = pd.DataFrame(vectorized_title, index=df.index)\n",
    "\n",
    "    vectorized_reviewtext = reviewtext_vectorizer.transform(df['Review Text']).toarray()\n",
    "    df['Review Text Sentiment'] = logreg_reviewtext.predict(vectorized_reviewtext)\n",
    "    # df = pd.DataFrame(vectorized_reviewtext, index=df.index)\n",
    "\n",
    "    # df_with_title_and_text = pd.concat([df, title_df, text_df], axis=1)\n",
    "\n",
    "    df.drop(['Title'], axis=1, inplace=True)\n",
    "    df.drop(['Review Text'], axis=1, inplace=True)\n",
    "\n",
    "    return df"
   ]
  },
  {
   "cell_type": "code",
   "execution_count": 90,
   "metadata": {},
   "outputs": [
    {
     "name": "stdout",
     "output_type": "stream",
     "text": [
      "preprocessing train data\n",
      "preprocessing valid data\n"
     ]
    }
   ],
   "source": [
    "print('preprocessing train data')\n",
    "df_train_final = preprocess_df(df_train_wo_cat)\n",
    "print('preprocessing valid data')\n",
    "df_valid_final = preprocess_df(df_valid_wo_cat)\n",
    "# print('preprocessing test data')\n",
    "# df_test_final = preprocess_df(df_test_wo_cat)"
   ]
  },
  {
   "cell_type": "code",
   "execution_count": 91,
   "metadata": {},
   "outputs": [
    {
     "data": {
      "text/html": [
       "<div>\n",
       "<style scoped>\n",
       "    .dataframe tbody tr th:only-of-type {\n",
       "        vertical-align: middle;\n",
       "    }\n",
       "\n",
       "    .dataframe tbody tr th {\n",
       "        vertical-align: top;\n",
       "    }\n",
       "\n",
       "    .dataframe thead th {\n",
       "        text-align: right;\n",
       "    }\n",
       "</style>\n",
       "<table border=\"1\" class=\"dataframe\">\n",
       "  <thead>\n",
       "    <tr style=\"text-align: right;\">\n",
       "      <th></th>\n",
       "      <th>Clothing ID</th>\n",
       "      <th>Age</th>\n",
       "      <th>Rating</th>\n",
       "      <th>Recommended IND</th>\n",
       "      <th>Positive Feedback Count</th>\n",
       "      <th>Division Name_General</th>\n",
       "      <th>Division Name_General Petite</th>\n",
       "      <th>Division Name_Initmates</th>\n",
       "      <th>Department Name_Bottoms</th>\n",
       "      <th>Department Name_Dresses</th>\n",
       "      <th>...</th>\n",
       "      <th>Class Name_Outerwear</th>\n",
       "      <th>Class Name_Pants</th>\n",
       "      <th>Class Name_Shorts</th>\n",
       "      <th>Class Name_Skirts</th>\n",
       "      <th>Class Name_Sleep</th>\n",
       "      <th>Class Name_Sweaters</th>\n",
       "      <th>Class Name_Swim</th>\n",
       "      <th>Class Name_Trend</th>\n",
       "      <th>Title Sentiment</th>\n",
       "      <th>Review Text Sentiment</th>\n",
       "    </tr>\n",
       "  </thead>\n",
       "  <tbody>\n",
       "    <tr>\n",
       "      <th>0</th>\n",
       "      <td>1049</td>\n",
       "      <td>50</td>\n",
       "      <td>4</td>\n",
       "      <td>1</td>\n",
       "      <td>0</td>\n",
       "      <td>0</td>\n",
       "      <td>1</td>\n",
       "      <td>0</td>\n",
       "      <td>1</td>\n",
       "      <td>0</td>\n",
       "      <td>...</td>\n",
       "      <td>0</td>\n",
       "      <td>1</td>\n",
       "      <td>0</td>\n",
       "      <td>0</td>\n",
       "      <td>0</td>\n",
       "      <td>0</td>\n",
       "      <td>0</td>\n",
       "      <td>0</td>\n",
       "      <td>4</td>\n",
       "      <td>4</td>\n",
       "    </tr>\n",
       "    <tr>\n",
       "      <th>1</th>\n",
       "      <td>847</td>\n",
       "      <td>47</td>\n",
       "      <td>4</td>\n",
       "      <td>1</td>\n",
       "      <td>6</td>\n",
       "      <td>1</td>\n",
       "      <td>0</td>\n",
       "      <td>0</td>\n",
       "      <td>0</td>\n",
       "      <td>0</td>\n",
       "      <td>...</td>\n",
       "      <td>0</td>\n",
       "      <td>0</td>\n",
       "      <td>0</td>\n",
       "      <td>0</td>\n",
       "      <td>0</td>\n",
       "      <td>0</td>\n",
       "      <td>0</td>\n",
       "      <td>0</td>\n",
       "      <td>4</td>\n",
       "      <td>4</td>\n",
       "    </tr>\n",
       "    <tr>\n",
       "      <th>2</th>\n",
       "      <td>858</td>\n",
       "      <td>39</td>\n",
       "      <td>4</td>\n",
       "      <td>1</td>\n",
       "      <td>1</td>\n",
       "      <td>0</td>\n",
       "      <td>1</td>\n",
       "      <td>0</td>\n",
       "      <td>0</td>\n",
       "      <td>0</td>\n",
       "      <td>...</td>\n",
       "      <td>0</td>\n",
       "      <td>0</td>\n",
       "      <td>0</td>\n",
       "      <td>0</td>\n",
       "      <td>0</td>\n",
       "      <td>0</td>\n",
       "      <td>0</td>\n",
       "      <td>0</td>\n",
       "      <td>4</td>\n",
       "      <td>4</td>\n",
       "    </tr>\n",
       "  </tbody>\n",
       "</table>\n",
       "<p>3 rows × 36 columns</p>\n",
       "</div>"
      ],
      "text/plain": [
       "   Clothing ID  Age  Rating  Recommended IND  Positive Feedback Count  \\\n",
       "0         1049   50       4                1                        0   \n",
       "1          847   47       4                1                        6   \n",
       "2          858   39       4                1                        1   \n",
       "\n",
       "   Division Name_General  Division Name_General Petite  \\\n",
       "0                      0                             1   \n",
       "1                      1                             0   \n",
       "2                      0                             1   \n",
       "\n",
       "   Division Name_Initmates  Department Name_Bottoms  Department Name_Dresses  \\\n",
       "0                        0                        1                        0   \n",
       "1                        0                        0                        0   \n",
       "2                        0                        0                        0   \n",
       "\n",
       "   ...  Class Name_Outerwear  Class Name_Pants  Class Name_Shorts  \\\n",
       "0  ...                     0                 1                  0   \n",
       "1  ...                     0                 0                  0   \n",
       "2  ...                     0                 0                  0   \n",
       "\n",
       "   Class Name_Skirts  Class Name_Sleep  Class Name_Sweaters  Class Name_Swim  \\\n",
       "0                  0                 0                    0                0   \n",
       "1                  0                 0                    0                0   \n",
       "2                  0                 0                    0                0   \n",
       "\n",
       "   Class Name_Trend  Title Sentiment  Review Text Sentiment  \n",
       "0                 0                4                      4  \n",
       "1                 0                4                      4  \n",
       "2                 0                4                      4  \n",
       "\n",
       "[3 rows x 36 columns]"
      ]
     },
     "execution_count": 91,
     "metadata": {},
     "output_type": "execute_result"
    }
   ],
   "source": [
    "df_train_final.head(3)"
   ]
  },
  {
   "cell_type": "code",
   "execution_count": 92,
   "metadata": {},
   "outputs": [],
   "source": [
    "y_train = df_train_final['Rating'].values\n",
    "y_valid = df_valid_final['Rating'].values"
   ]
  },
  {
   "cell_type": "code",
   "execution_count": 93,
   "metadata": {},
   "outputs": [],
   "source": [
    "df_train_final.drop(['Rating'], axis=1, inplace=True)\n",
    "X_train = df_train_final.values\n",
    "df_valid_final.drop(['Rating'], axis=1, inplace=True)\n",
    "X_valid = df_valid_final.values"
   ]
  },
  {
   "cell_type": "code",
   "execution_count": 94,
   "metadata": {},
   "outputs": [],
   "source": [
    "# rf_tab = RandomForestClassifier(random_state=random_state, n_estimators=1000)\n",
    "# rf_tab.fit(X_train, y_train)\n",
    "# y_preds = rf_tab.predict(X_valid)\n",
    "# rf_tab_accuracy = accuracy_score(y_valid, y_preds)\n",
    "# print(f\"Random Forest tabular accuracy: {rf_tab_accuracy}\")"
   ]
  },
  {
   "cell_type": "code",
   "execution_count": 96,
   "metadata": {},
   "outputs": [],
   "source": [
    "# gbt_tab = GradientBoostingClassifier(random_state=random_state, n_estimators=1000)\n",
    "# gbt_tab.fit(X_train, y_train)\n",
    "# y_preds = gbt_tab.predict(X_valid)\n",
    "# gbt_tab_accuracy = accuracy_score(y_valid, y_preds)\n",
    "# print(f\"Gradient Boosting tabular accuracy: {gbt_tab_accuracy}\")"
   ]
  },
  {
   "cell_type": "code",
   "execution_count": 102,
   "metadata": {},
   "outputs": [
    {
     "name": "stdout",
     "output_type": "stream",
     "text": [
      "Logistic Regression tabular accuracy: 0.6767461669505963\n"
     ]
    }
   ],
   "source": [
    "# logreg_tab = LogisticRegression(random_state=random_state, solver=\"saga\", max_iter=20000) # accuracy: 0.662\n",
    "logreg_tab = LogisticRegression(random_state=random_state, solver=\"lbfgs\", max_iter=20000) # accuracy: 0.676\n",
    "logreg_tab.fit(X_train, y_train)\n",
    "y_preds = logreg_tab.predict(X_valid)\n",
    "logreg_tab_accuracy = accuracy_score(y_valid, y_preds)\n",
    "print(f\"Logistic Regression tabular accuracy: {logreg_tab_accuracy}\")"
   ]
  },
  {
   "cell_type": "code",
   "execution_count": 97,
   "metadata": {},
   "outputs": [
    {
     "name": "stdout",
     "output_type": "stream",
     "text": [
      "XGBoost tabular accuracy: 0.6643952299829642\n"
     ]
    }
   ],
   "source": [
    "bst_tab = XGBClassifier(random_state=random_state, n_estimators=9, max_depth=2, learning_rate=.9, objective='multi:softmax')\n",
    "bst_tab.fit(X_train, y_train)\n",
    "y_preds = bst_tab.predict(X_valid)\n",
    "bst_tab_accuracy = accuracy_score(y_valid, y_preds)\n",
    "print(f\"XGBoost tabular accuracy: {bst_tab_accuracy}\")"
   ]
  },
  {
   "cell_type": "code",
   "execution_count": null,
   "metadata": {},
   "outputs": [],
   "source": []
  },
  {
   "cell_type": "code",
   "execution_count": 98,
   "metadata": {},
   "outputs": [
    {
     "name": "stdout",
     "output_type": "stream",
     "text": [
      "XGBoost tabular accuracy: 0.6626916524701874\n"
     ]
    }
   ],
   "source": [
    "bst_tab_hat = XGBClassifier(random_state=random_state, objective='multi:softmax')\n",
    "bst_tab_hat.fit(X_train, y_train)\n",
    "y_preds = bst_tab_hat.predict(X_valid)\n",
    "bst_tab_hat_accuracy = accuracy_score(y_valid, y_preds)\n",
    "print(f\"XGBoost tabular accuracy: {bst_tab_hat_accuracy}\")"
   ]
  },
  {
   "cell_type": "code",
   "execution_count": null,
   "metadata": {},
   "outputs": [],
   "source": []
  }
 ],
 "metadata": {
  "kernelspec": {
   "display_name": "gputorch",
   "language": "python",
   "name": "python3"
  },
  "language_info": {
   "codemirror_mode": {
    "name": "ipython",
    "version": 3
   },
   "file_extension": ".py",
   "mimetype": "text/x-python",
   "name": "python",
   "nbconvert_exporter": "python",
   "pygments_lexer": "ipython3",
   "version": "3.10.8"
  },
  "orig_nbformat": 4,
  "vscode": {
   "interpreter": {
    "hash": "2dbbb6cd59b3dbdf4da55c2d28b7f7ae42791a8b99736a7739fce4258f4b207c"
   }
  }
 },
 "nbformat": 4,
 "nbformat_minor": 2
}
