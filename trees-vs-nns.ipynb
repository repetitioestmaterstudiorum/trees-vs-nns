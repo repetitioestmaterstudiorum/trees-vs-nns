{
 "cells": [
  {
   "cell_type": "code",
   "execution_count": 411,
   "metadata": {},
   "outputs": [],
   "source": [
    "import pandas as pd"
   ]
  },
  {
   "cell_type": "code",
   "execution_count": 412,
   "metadata": {},
   "outputs": [
    {
     "data": {
      "text/plain": [
       "dict_keys(['train', 'valid', 'test'])"
      ]
     },
     "execution_count": 412,
     "metadata": {},
     "output_type": "execute_result"
    }
   ],
   "source": [
    "data = dict()\n",
    "dataset_names = ['train', 'valid', 'test']\n",
    "\n",
    "for dataset_name in dataset_names:\n",
    "    df = pd.read_csv(f\"data/{dataset_name}.csv\")\n",
    "    data.update({dataset_name: {'df': df}})\n",
    "\n",
    "data.keys()"
   ]
  },
  {
   "cell_type": "code",
   "execution_count": 413,
   "metadata": {},
   "outputs": [
    {
     "data": {
      "text/plain": [
       "dict_keys(['df'])"
      ]
     },
     "execution_count": 413,
     "metadata": {},
     "output_type": "execute_result"
    }
   ],
   "source": [
    "data['train'].keys()"
   ]
  },
  {
   "cell_type": "code",
   "execution_count": 414,
   "metadata": {},
   "outputs": [
    {
     "data": {
      "text/html": [
       "<div>\n",
       "<style scoped>\n",
       "    .dataframe tbody tr th:only-of-type {\n",
       "        vertical-align: middle;\n",
       "    }\n",
       "\n",
       "    .dataframe tbody tr th {\n",
       "        vertical-align: top;\n",
       "    }\n",
       "\n",
       "    .dataframe thead th {\n",
       "        text-align: right;\n",
       "    }\n",
       "</style>\n",
       "<table border=\"1\" class=\"dataframe\">\n",
       "  <thead>\n",
       "    <tr style=\"text-align: right;\">\n",
       "      <th></th>\n",
       "      <th>ID</th>\n",
       "      <th>Clothing ID</th>\n",
       "      <th>Age</th>\n",
       "      <th>Title</th>\n",
       "      <th>Review Text</th>\n",
       "      <th>Rating</th>\n",
       "      <th>Recommended IND</th>\n",
       "      <th>Positive Feedback Count</th>\n",
       "      <th>Division Name</th>\n",
       "      <th>Department Name</th>\n",
       "      <th>Class Name</th>\n",
       "    </tr>\n",
       "  </thead>\n",
       "  <tbody>\n",
       "    <tr>\n",
       "      <th>8573</th>\n",
       "      <td>10706</td>\n",
       "      <td>936</td>\n",
       "      <td>42</td>\n",
       "      <td>Huge</td>\n",
       "      <td>This is a gorgeous sweater but huge. and when ...</td>\n",
       "      <td>4</td>\n",
       "      <td>0</td>\n",
       "      <td>1</td>\n",
       "      <td>General Petite</td>\n",
       "      <td>Tops</td>\n",
       "      <td>Sweaters</td>\n",
       "    </tr>\n",
       "    <tr>\n",
       "      <th>8242</th>\n",
       "      <td>10303</td>\n",
       "      <td>1110</td>\n",
       "      <td>46</td>\n",
       "      <td>Simply beautiful</td>\n",
       "      <td>This is a beautiful dress and i would recommen...</td>\n",
       "      <td>4</td>\n",
       "      <td>1</td>\n",
       "      <td>0</td>\n",
       "      <td>General</td>\n",
       "      <td>Dresses</td>\n",
       "      <td>Dresses</td>\n",
       "    </tr>\n",
       "    <tr>\n",
       "      <th>2861</th>\n",
       "      <td>3575</td>\n",
       "      <td>1077</td>\n",
       "      <td>23</td>\n",
       "      <td>Cute dress</td>\n",
       "      <td>For reference i am wearing a medium in the pho...</td>\n",
       "      <td>4</td>\n",
       "      <td>1</td>\n",
       "      <td>0</td>\n",
       "      <td>General</td>\n",
       "      <td>Dresses</td>\n",
       "      <td>Dresses</td>\n",
       "    </tr>\n",
       "    <tr>\n",
       "      <th>11968</th>\n",
       "      <td>15000</td>\n",
       "      <td>1025</td>\n",
       "      <td>47</td>\n",
       "      <td>I'm in love</td>\n",
       "      <td>I'm 5'1 and 110 pounds and i ordered the 26 pe...</td>\n",
       "      <td>5</td>\n",
       "      <td>1</td>\n",
       "      <td>5</td>\n",
       "      <td>General</td>\n",
       "      <td>Bottoms</td>\n",
       "      <td>Jeans</td>\n",
       "    </tr>\n",
       "    <tr>\n",
       "      <th>9171</th>\n",
       "      <td>11477</td>\n",
       "      <td>868</td>\n",
       "      <td>36</td>\n",
       "      <td>NaN</td>\n",
       "      <td>NaN</td>\n",
       "      <td>3</td>\n",
       "      <td>1</td>\n",
       "      <td>0</td>\n",
       "      <td>General</td>\n",
       "      <td>Tops</td>\n",
       "      <td>Knits</td>\n",
       "    </tr>\n",
       "  </tbody>\n",
       "</table>\n",
       "</div>"
      ],
      "text/plain": [
       "          ID  Clothing ID  Age             Title  \\\n",
       "8573   10706          936   42              Huge   \n",
       "8242   10303         1110   46  Simply beautiful   \n",
       "2861    3575         1077   23        Cute dress   \n",
       "11968  15000         1025   47       I'm in love   \n",
       "9171   11477          868   36               NaN   \n",
       "\n",
       "                                             Review Text  Rating  \\\n",
       "8573   This is a gorgeous sweater but huge. and when ...       4   \n",
       "8242   This is a beautiful dress and i would recommen...       4   \n",
       "2861   For reference i am wearing a medium in the pho...       4   \n",
       "11968  I'm 5'1 and 110 pounds and i ordered the 26 pe...       5   \n",
       "9171                                                 NaN       3   \n",
       "\n",
       "       Recommended IND  Positive Feedback Count   Division Name  \\\n",
       "8573                 0                        1  General Petite   \n",
       "8242                 1                        0         General   \n",
       "2861                 1                        0         General   \n",
       "11968                1                        5         General   \n",
       "9171                 1                        0         General   \n",
       "\n",
       "      Department Name Class Name  \n",
       "8573             Tops   Sweaters  \n",
       "8242          Dresses    Dresses  \n",
       "2861          Dresses    Dresses  \n",
       "11968         Bottoms      Jeans  \n",
       "9171             Tops      Knits  "
      ]
     },
     "execution_count": 414,
     "metadata": {},
     "output_type": "execute_result"
    }
   ],
   "source": [
    "# data['train']['df'].head()\n",
    "data['train']['df'].sample(5)"
   ]
  },
  {
   "cell_type": "code",
   "execution_count": 415,
   "metadata": {},
   "outputs": [
    {
     "name": "stdout",
     "output_type": "stream",
     "text": [
      "<class 'pandas.core.frame.DataFrame'>\n",
      "RangeIndex: 18790 entries, 0 to 18789\n",
      "Data columns (total 11 columns):\n",
      " #   Column                   Non-Null Count  Dtype \n",
      "---  ------                   --------------  ----- \n",
      " 0   ID                       18790 non-null  int64 \n",
      " 1   Clothing ID              18790 non-null  int64 \n",
      " 2   Age                      18790 non-null  int64 \n",
      " 3   Title                    15773 non-null  object\n",
      " 4   Review Text              18131 non-null  object\n",
      " 5   Rating                   18790 non-null  int64 \n",
      " 6   Recommended IND          18790 non-null  int64 \n",
      " 7   Positive Feedback Count  18790 non-null  int64 \n",
      " 8   Division Name            18781 non-null  object\n",
      " 9   Department Name          18781 non-null  object\n",
      " 10  Class Name               18781 non-null  object\n",
      "dtypes: int64(6), object(5)\n",
      "memory usage: 1.6+ MB\n"
     ]
    }
   ],
   "source": [
    "data['train']['df'].info()"
   ]
  },
  {
   "cell_type": "code",
   "execution_count": 416,
   "metadata": {},
   "outputs": [
    {
     "data": {
      "text/plain": [
       "<AxesSubplot: >"
      ]
     },
     "execution_count": 416,
     "metadata": {},
     "output_type": "execute_result"
    },
    {
     "data": {
      "image/png": "[encoded data removed]",
      "text/plain": [
       "<Figure size 640x480 with 1 Axes>"
      ]
     },
     "metadata": {},
     "output_type": "display_data"
    }
   ],
   "source": [
    "data['train']['df']['Rating'].hist()"
   ]
  },
  {
   "cell_type": "code",
   "execution_count": 417,
   "metadata": {},
   "outputs": [
    {
     "data": {
      "text/plain": [
       "array(['Initmates', 'General', 'General Petite', ''], dtype=object)"
      ]
     },
     "execution_count": 417,
     "metadata": {},
     "output_type": "execute_result"
    }
   ],
   "source": [
    "data['train']['df']['Division Name'].fillna('').unique()"
   ]
  },
  {
   "cell_type": "code",
   "execution_count": 418,
   "metadata": {},
   "outputs": [
    {
     "data": {
      "text/plain": [
       "array(['Intimate', 'Dresses', 'Bottoms', 'Tops', 'Jackets', 'Trend', ''],\n",
       "      dtype=object)"
      ]
     },
     "execution_count": 418,
     "metadata": {},
     "output_type": "execute_result"
    }
   ],
   "source": [
    "data['train']['df']['Department Name'].fillna('').unique()\n"
   ]
  },
  {
   "cell_type": "code",
   "execution_count": 419,
   "metadata": {},
   "outputs": [
    {
     "data": {
      "text/plain": [
       "array(['Intimates', 'Dresses', 'Pants', 'Blouses', 'Knits', 'Outerwear',\n",
       "       'Lounge', 'Sweaters', 'Skirts', 'Sleep', 'Jackets', 'Swim',\n",
       "       'Fine gauge', 'Trend', 'Jeans', 'Legwear', 'Shorts', 'Layering',\n",
       "       'Casual bottoms', 'Chemises', ''], dtype=object)"
      ]
     },
     "execution_count": 419,
     "metadata": {},
     "output_type": "execute_result"
    }
   ],
   "source": [
    "data['train']['df']['Class Name'].fillna('').unique()"
   ]
  },
  {
   "cell_type": "code",
   "execution_count": 420,
   "metadata": {},
   "outputs": [
    {
     "data": {
      "text/plain": [
       "1"
      ]
     },
     "execution_count": 420,
     "metadata": {},
     "output_type": "execute_result"
    }
   ],
   "source": [
    "['hi', 'there'].index('there')"
   ]
  },
  {
   "cell_type": "code",
   "execution_count": 421,
   "metadata": {},
   "outputs": [],
   "source": [
    "def get_unique_values(df: pd.Series):\n",
    "    return df.unique().tolist()\n",
    "\n",
    "def preprocess_df(df: pd.DataFrame):\n",
    "    df = df.copy(deep=True)\n",
    "\n",
    "    division_name_unique_values = get_unique_values(df['Division Name'])\n",
    "    df['Division Name Numeric'] = df['Division Name'].apply(division_name_unique_values.index)\n",
    "    df.drop(['Division Name'], axis=1, inplace=True)\n",
    "\n",
    "    department_name_unique_values = get_unique_values(df['Department Name'])\n",
    "    df['Department Name Numeric'] = df['Department Name'].apply(department_name_unique_values.index)\n",
    "    df.drop(['Department Name'], axis=1, inplace=True)\n",
    "\n",
    "    class_name_unique_values = get_unique_values(df['Class Name'])\n",
    "    df['Class Name Numeric'] = df['Class Name'].apply(class_name_unique_values.index)\n",
    "    df.drop(['Class Name'], axis=1, inplace=True)\n",
    "\n",
    "    return df"
   ]
  },
  {
   "cell_type": "code",
   "execution_count": 422,
   "metadata": {},
   "outputs": [
    {
     "name": "stdout",
     "output_type": "stream",
     "text": [
      "--- Preprocessing dataset train...\n",
      "--- Preprocessing dataset valid...\n",
      "--- Preprocessing dataset test...\n"
     ]
    }
   ],
   "source": [
    "for dataset_name in data.keys():\n",
    "    print(f\"--- Preprocessing dataset {dataset_name}...\")\n",
    "\n",
    "    preprocessed_df = preprocess_df(data[dataset_name]['df'])\n",
    "    data[dataset_name]['pp_df'] = preprocessed_df"
   ]
  },
  {
   "cell_type": "code",
   "execution_count": 423,
   "metadata": {},
   "outputs": [
    {
     "data": {
      "text/html": [
       "<div>\n",
       "<style scoped>\n",
       "    .dataframe tbody tr th:only-of-type {\n",
       "        vertical-align: middle;\n",
       "    }\n",
       "\n",
       "    .dataframe tbody tr th {\n",
       "        vertical-align: top;\n",
       "    }\n",
       "\n",
       "    .dataframe thead th {\n",
       "        text-align: right;\n",
       "    }\n",
       "</style>\n",
       "<table border=\"1\" class=\"dataframe\">\n",
       "  <thead>\n",
       "    <tr style=\"text-align: right;\">\n",
       "      <th></th>\n",
       "      <th>ID</th>\n",
       "      <th>Clothing ID</th>\n",
       "      <th>Age</th>\n",
       "      <th>Title</th>\n",
       "      <th>Review Text</th>\n",
       "      <th>Rating</th>\n",
       "      <th>Recommended IND</th>\n",
       "      <th>Positive Feedback Count</th>\n",
       "      <th>Division Name Numeric</th>\n",
       "      <th>Department Name Numeric</th>\n",
       "      <th>Class Name Numeric</th>\n",
       "    </tr>\n",
       "  </thead>\n",
       "  <tbody>\n",
       "    <tr>\n",
       "      <th>170</th>\n",
       "      <td>217</td>\n",
       "      <td>828</td>\n",
       "      <td>64</td>\n",
       "      <td>Too cute to pass up!</td>\n",
       "      <td>Adorable... too chilly now to wear alone &amp; too...</td>\n",
       "      <td>5</td>\n",
       "      <td>1</td>\n",
       "      <td>3</td>\n",
       "      <td>1</td>\n",
       "      <td>3</td>\n",
       "      <td>3</td>\n",
       "    </tr>\n",
       "    <tr>\n",
       "      <th>4113</th>\n",
       "      <td>5188</td>\n",
       "      <td>909</td>\n",
       "      <td>70</td>\n",
       "      <td>Great fit and style</td>\n",
       "      <td>This is a great cardigan to wear buttoned or o...</td>\n",
       "      <td>5</td>\n",
       "      <td>1</td>\n",
       "      <td>1</td>\n",
       "      <td>2</td>\n",
       "      <td>3</td>\n",
       "      <td>12</td>\n",
       "    </tr>\n",
       "    <tr>\n",
       "      <th>18133</th>\n",
       "      <td>22644</td>\n",
       "      <td>886</td>\n",
       "      <td>46</td>\n",
       "      <td>Modern with retro flair</td>\n",
       "      <td>Very cool top! i purchased this in the black, ...</td>\n",
       "      <td>5</td>\n",
       "      <td>1</td>\n",
       "      <td>1</td>\n",
       "      <td>2</td>\n",
       "      <td>3</td>\n",
       "      <td>4</td>\n",
       "    </tr>\n",
       "    <tr>\n",
       "      <th>16718</th>\n",
       "      <td>20892</td>\n",
       "      <td>1079</td>\n",
       "      <td>57</td>\n",
       "      <td>Dream dress</td>\n",
       "      <td>I bought this unique beauty in a size 0. the f...</td>\n",
       "      <td>5</td>\n",
       "      <td>1</td>\n",
       "      <td>1</td>\n",
       "      <td>1</td>\n",
       "      <td>1</td>\n",
       "      <td>1</td>\n",
       "    </tr>\n",
       "    <tr>\n",
       "      <th>7710</th>\n",
       "      <td>9647</td>\n",
       "      <td>828</td>\n",
       "      <td>39</td>\n",
       "      <td>Great fall top</td>\n",
       "      <td>This shirt is extremely soft and fits well. gr...</td>\n",
       "      <td>5</td>\n",
       "      <td>1</td>\n",
       "      <td>3</td>\n",
       "      <td>2</td>\n",
       "      <td>3</td>\n",
       "      <td>3</td>\n",
       "    </tr>\n",
       "    <tr>\n",
       "      <th>18169</th>\n",
       "      <td>22688</td>\n",
       "      <td>843</td>\n",
       "      <td>33</td>\n",
       "      <td>Small in bust, tts in torso</td>\n",
       "      <td>This top is a tough one. i ordered my usual me...</td>\n",
       "      <td>3</td>\n",
       "      <td>1</td>\n",
       "      <td>23</td>\n",
       "      <td>1</td>\n",
       "      <td>3</td>\n",
       "      <td>3</td>\n",
       "    </tr>\n",
       "    <tr>\n",
       "      <th>3794</th>\n",
       "      <td>4768</td>\n",
       "      <td>1080</td>\n",
       "      <td>39</td>\n",
       "      <td>Beautiful!!</td>\n",
       "      <td>This dress is so easy to wear! the neck line i...</td>\n",
       "      <td>5</td>\n",
       "      <td>1</td>\n",
       "      <td>0</td>\n",
       "      <td>1</td>\n",
       "      <td>1</td>\n",
       "      <td>1</td>\n",
       "    </tr>\n",
       "    <tr>\n",
       "      <th>4591</th>\n",
       "      <td>5783</td>\n",
       "      <td>1078</td>\n",
       "      <td>39</td>\n",
       "      <td>A great addition to any wardrobe</td>\n",
       "      <td>I bought the dress in mango. i love the color....</td>\n",
       "      <td>4</td>\n",
       "      <td>1</td>\n",
       "      <td>0</td>\n",
       "      <td>1</td>\n",
       "      <td>1</td>\n",
       "      <td>1</td>\n",
       "    </tr>\n",
       "    <tr>\n",
       "      <th>16833</th>\n",
       "      <td>21031</td>\n",
       "      <td>1083</td>\n",
       "      <td>35</td>\n",
       "      <td>Gorgeous dress, recommend for slimmer individuals</td>\n",
       "      <td>I love this dress! my bra straps do not show i...</td>\n",
       "      <td>4</td>\n",
       "      <td>1</td>\n",
       "      <td>2</td>\n",
       "      <td>2</td>\n",
       "      <td>1</td>\n",
       "      <td>1</td>\n",
       "    </tr>\n",
       "    <tr>\n",
       "      <th>6549</th>\n",
       "      <td>8211</td>\n",
       "      <td>868</td>\n",
       "      <td>49</td>\n",
       "      <td>Cute and fits well but a littel see through</td>\n",
       "      <td>I got this top in white and really like it. it...</td>\n",
       "      <td>5</td>\n",
       "      <td>1</td>\n",
       "      <td>0</td>\n",
       "      <td>1</td>\n",
       "      <td>3</td>\n",
       "      <td>4</td>\n",
       "    </tr>\n",
       "  </tbody>\n",
       "</table>\n",
       "</div>"
      ],
      "text/plain": [
       "          ID  Clothing ID  Age  \\\n",
       "170      217          828   64   \n",
       "4113    5188          909   70   \n",
       "18133  22644          886   46   \n",
       "16718  20892         1079   57   \n",
       "7710    9647          828   39   \n",
       "18169  22688          843   33   \n",
       "3794    4768         1080   39   \n",
       "4591    5783         1078   39   \n",
       "16833  21031         1083   35   \n",
       "6549    8211          868   49   \n",
       "\n",
       "                                                   Title  \\\n",
       "170                                 Too cute to pass up!   \n",
       "4113                                 Great fit and style   \n",
       "18133                            Modern with retro flair   \n",
       "16718                                        Dream dress   \n",
       "7710                                      Great fall top   \n",
       "18169                        Small in bust, tts in torso   \n",
       "3794                                         Beautiful!!   \n",
       "4591                    A great addition to any wardrobe   \n",
       "16833  Gorgeous dress, recommend for slimmer individuals   \n",
       "6549         Cute and fits well but a littel see through   \n",
       "\n",
       "                                             Review Text  Rating  \\\n",
       "170    Adorable... too chilly now to wear alone & too...       5   \n",
       "4113   This is a great cardigan to wear buttoned or o...       5   \n",
       "18133  Very cool top! i purchased this in the black, ...       5   \n",
       "16718  I bought this unique beauty in a size 0. the f...       5   \n",
       "7710   This shirt is extremely soft and fits well. gr...       5   \n",
       "18169  This top is a tough one. i ordered my usual me...       3   \n",
       "3794   This dress is so easy to wear! the neck line i...       5   \n",
       "4591   I bought the dress in mango. i love the color....       4   \n",
       "16833  I love this dress! my bra straps do not show i...       4   \n",
       "6549   I got this top in white and really like it. it...       5   \n",
       "\n",
       "       Recommended IND  Positive Feedback Count  Division Name Numeric  \\\n",
       "170                  1                        3                      1   \n",
       "4113                 1                        1                      2   \n",
       "18133                1                        1                      2   \n",
       "16718                1                        1                      1   \n",
       "7710                 1                        3                      2   \n",
       "18169                1                       23                      1   \n",
       "3794                 1                        0                      1   \n",
       "4591                 1                        0                      1   \n",
       "16833                1                        2                      2   \n",
       "6549                 1                        0                      1   \n",
       "\n",
       "       Department Name Numeric  Class Name Numeric  \n",
       "170                          3                   3  \n",
       "4113                         3                  12  \n",
       "18133                        3                   4  \n",
       "16718                        1                   1  \n",
       "7710                         3                   3  \n",
       "18169                        3                   3  \n",
       "3794                         1                   1  \n",
       "4591                         1                   1  \n",
       "16833                        1                   1  \n",
       "6549                         3                   4  "
      ]
     },
     "execution_count": 423,
     "metadata": {},
     "output_type": "execute_result"
    }
   ],
   "source": [
    "data['train']['pp_df'].sample(10)"
   ]
  },
  {
   "cell_type": "code",
   "execution_count": null,
   "metadata": {},
   "outputs": [],
   "source": []
  }
 ],
 "metadata": {
  "kernelspec": {
   "display_name": "gputorch",
   "language": "python",
   "name": "python3"
  },
  "language_info": {
   "codemirror_mode": {
    "name": "ipython",
    "version": 3
   },
   "file_extension": ".py",
   "mimetype": "text/x-python",
   "name": "python",
   "nbconvert_exporter": "python",
   "pygments_lexer": "ipython3",
   "version": "3.10.8"
  },
  "orig_nbformat": 4,
  "vscode": {
   "interpreter": {
    "hash": "2dbbb6cd59b3dbdf4da55c2d28b7f7ae42791a8b99736a7739fce4258f4b207c"
   }
  }
 },
 "nbformat": 4,
 "nbformat_minor": 2
}
