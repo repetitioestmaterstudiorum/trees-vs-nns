{
 "cells": [
  {
   "cell_type": "code",
   "execution_count": 1,
   "metadata": {},
   "outputs": [
    {
     "name": "stderr",
     "output_type": "stream",
     "text": [
      "[nltk_data] Downloading package punkt to /Users/sunyamare/nltk_data...\n",
      "[nltk_data]   Package punkt is already up-to-date!\n",
      "[nltk_data] Downloading package wordnet to\n",
      "[nltk_data]     /Users/sunyamare/nltk_data...\n",
      "[nltk_data]   Package wordnet is already up-to-date!\n"
     ]
    },
    {
     "data": {
      "text/plain": [
       "True"
      ]
     },
     "execution_count": 1,
     "metadata": {},
     "output_type": "execute_result"
    }
   ],
   "source": [
    "import typing\n",
    "import pandas as pd\n",
    "import numpy as np\n",
    "from sklearn.feature_extraction.text import TfidfVectorizer\n",
    "from sklearn.linear_model import LogisticRegression\n",
    "from sklearn.naive_bayes import MultinomialNB\n",
    "from sklearn.ensemble import RandomForestClassifier\n",
    "from sklearn.metrics import accuracy_score\n",
    "from sklearn.utils.class_weight import compute_sample_weight\n",
    "import re\n",
    "import nltk\n",
    "from nltk.corpus import stopwords\n",
    "from nltk.stem import WordNetLemmatizer \n",
    "from nltk.tokenize import TweetTokenizer\n",
    "nltk.download('punkt')\n",
    "nltk.download('wordnet')"
   ]
  },
  {
   "cell_type": "code",
   "execution_count": 2,
   "metadata": {},
   "outputs": [],
   "source": [
    "random_state = 8"
   ]
  },
  {
   "cell_type": "code",
   "execution_count": 3,
   "metadata": {},
   "outputs": [
    {
     "data": {
      "text/plain": [
       "dict_keys(['train', 'valid', 'test'])"
      ]
     },
     "execution_count": 3,
     "metadata": {},
     "output_type": "execute_result"
    }
   ],
   "source": [
    "data = dict()\n",
    "dataset_names = ['train', 'valid', 'test']\n",
    "\n",
    "for dataset_name in dataset_names:\n",
    "    df = pd.read_csv(f\"data/{dataset_name}.csv\")\n",
    "    data.update({dataset_name: {'df': df}})\n",
    "\n",
    "data.keys()"
   ]
  },
  {
   "cell_type": "code",
   "execution_count": 4,
   "metadata": {},
   "outputs": [
    {
     "data": {
      "text/plain": [
       "dict_keys(['df'])"
      ]
     },
     "execution_count": 4,
     "metadata": {},
     "output_type": "execute_result"
    }
   ],
   "source": [
    "data['train'].keys()"
   ]
  },
  {
   "cell_type": "code",
   "execution_count": 5,
   "metadata": {},
   "outputs": [
    {
     "data": {
      "text/plain": [
       "23486"
      ]
     },
     "execution_count": 5,
     "metadata": {},
     "output_type": "execute_result"
    }
   ],
   "source": [
    "# total rows of all data\n",
    "sum(data[dataset_name]['df'].shape[0] for dataset_name in dataset_names)"
   ]
  },
  {
   "cell_type": "code",
   "execution_count": 6,
   "metadata": {},
   "outputs": [
    {
     "data": {
      "text/html": [
       "<div>\n",
       "<style scoped>\n",
       "    .dataframe tbody tr th:only-of-type {\n",
       "        vertical-align: middle;\n",
       "    }\n",
       "\n",
       "    .dataframe tbody tr th {\n",
       "        vertical-align: top;\n",
       "    }\n",
       "\n",
       "    .dataframe thead th {\n",
       "        text-align: right;\n",
       "    }\n",
       "</style>\n",
       "<table border=\"1\" class=\"dataframe\">\n",
       "  <thead>\n",
       "    <tr style=\"text-align: right;\">\n",
       "      <th></th>\n",
       "      <th>ID</th>\n",
       "      <th>Clothing ID</th>\n",
       "      <th>Age</th>\n",
       "      <th>Title</th>\n",
       "      <th>Review Text</th>\n",
       "      <th>Rating</th>\n",
       "      <th>Recommended IND</th>\n",
       "      <th>Positive Feedback Count</th>\n",
       "      <th>Division Name</th>\n",
       "      <th>Department Name</th>\n",
       "      <th>Class Name</th>\n",
       "    </tr>\n",
       "  </thead>\n",
       "  <tbody>\n",
       "    <tr>\n",
       "      <th>498</th>\n",
       "      <td>624</td>\n",
       "      <td>634</td>\n",
       "      <td>69</td>\n",
       "      <td>Overpriced but so comfortable</td>\n",
       "      <td>This is a great beach/pool or lounge piece. i ...</td>\n",
       "      <td>4</td>\n",
       "      <td>1</td>\n",
       "      <td>12</td>\n",
       "      <td>General Petite</td>\n",
       "      <td>Intimate</td>\n",
       "      <td>Lounge</td>\n",
       "    </tr>\n",
       "    <tr>\n",
       "      <th>16257</th>\n",
       "      <td>20304</td>\n",
       "      <td>1035</td>\n",
       "      <td>40</td>\n",
       "      <td>Love these jeans!</td>\n",
       "      <td>I love these jeans. they can be dressed up or ...</td>\n",
       "      <td>5</td>\n",
       "      <td>1</td>\n",
       "      <td>0</td>\n",
       "      <td>General Petite</td>\n",
       "      <td>Bottoms</td>\n",
       "      <td>Jeans</td>\n",
       "    </tr>\n",
       "    <tr>\n",
       "      <th>12158</th>\n",
       "      <td>15238</td>\n",
       "      <td>862</td>\n",
       "      <td>64</td>\n",
       "      <td>Stylish tee</td>\n",
       "      <td>Another wonderful deletta top is hanging in my...</td>\n",
       "      <td>5</td>\n",
       "      <td>1</td>\n",
       "      <td>0</td>\n",
       "      <td>General Petite</td>\n",
       "      <td>Tops</td>\n",
       "      <td>Knits</td>\n",
       "    </tr>\n",
       "    <tr>\n",
       "      <th>2743</th>\n",
       "      <td>3422</td>\n",
       "      <td>939</td>\n",
       "      <td>58</td>\n",
       "      <td>Wanted to like this...</td>\n",
       "      <td>The craftmanship &amp; material (not itchy at all ...</td>\n",
       "      <td>4</td>\n",
       "      <td>1</td>\n",
       "      <td>0</td>\n",
       "      <td>General</td>\n",
       "      <td>Tops</td>\n",
       "      <td>Sweaters</td>\n",
       "    </tr>\n",
       "    <tr>\n",
       "      <th>11606</th>\n",
       "      <td>14545</td>\n",
       "      <td>904</td>\n",
       "      <td>66</td>\n",
       "      <td>Great drape!</td>\n",
       "      <td>I love how this long sweater drapes. it's soft...</td>\n",
       "      <td>5</td>\n",
       "      <td>1</td>\n",
       "      <td>0</td>\n",
       "      <td>General Petite</td>\n",
       "      <td>Tops</td>\n",
       "      <td>Fine gauge</td>\n",
       "    </tr>\n",
       "  </tbody>\n",
       "</table>\n",
       "</div>"
      ],
      "text/plain": [
       "          ID  Clothing ID  Age                          Title  \\\n",
       "498      624          634   69  Overpriced but so comfortable   \n",
       "16257  20304         1035   40              Love these jeans!   \n",
       "12158  15238          862   64                    Stylish tee   \n",
       "2743    3422          939   58         Wanted to like this...   \n",
       "11606  14545          904   66                   Great drape!   \n",
       "\n",
       "                                             Review Text  Rating  \\\n",
       "498    This is a great beach/pool or lounge piece. i ...       4   \n",
       "16257  I love these jeans. they can be dressed up or ...       5   \n",
       "12158  Another wonderful deletta top is hanging in my...       5   \n",
       "2743   The craftmanship & material (not itchy at all ...       4   \n",
       "11606  I love how this long sweater drapes. it's soft...       5   \n",
       "\n",
       "       Recommended IND  Positive Feedback Count   Division Name  \\\n",
       "498                  1                       12  General Petite   \n",
       "16257                1                        0  General Petite   \n",
       "12158                1                        0  General Petite   \n",
       "2743                 1                        0         General   \n",
       "11606                1                        0  General Petite   \n",
       "\n",
       "      Department Name  Class Name  \n",
       "498          Intimate      Lounge  \n",
       "16257         Bottoms       Jeans  \n",
       "12158            Tops       Knits  \n",
       "2743             Tops    Sweaters  \n",
       "11606            Tops  Fine gauge  "
      ]
     },
     "execution_count": 6,
     "metadata": {},
     "output_type": "execute_result"
    }
   ],
   "source": [
    "# data['train']['df'].head()\n",
    "data['train']['df'].sample(5)"
   ]
  },
  {
   "cell_type": "code",
   "execution_count": 7,
   "metadata": {},
   "outputs": [
    {
     "name": "stdout",
     "output_type": "stream",
     "text": [
      "<class 'pandas.core.frame.DataFrame'>\n",
      "RangeIndex: 18790 entries, 0 to 18789\n",
      "Data columns (total 11 columns):\n",
      " #   Column                   Non-Null Count  Dtype \n",
      "---  ------                   --------------  ----- \n",
      " 0   ID                       18790 non-null  int64 \n",
      " 1   Clothing ID              18790 non-null  int64 \n",
      " 2   Age                      18790 non-null  int64 \n",
      " 3   Title                    15773 non-null  object\n",
      " 4   Review Text              18131 non-null  object\n",
      " 5   Rating                   18790 non-null  int64 \n",
      " 6   Recommended IND          18790 non-null  int64 \n",
      " 7   Positive Feedback Count  18790 non-null  int64 \n",
      " 8   Division Name            18781 non-null  object\n",
      " 9   Department Name          18781 non-null  object\n",
      " 10  Class Name               18781 non-null  object\n",
      "dtypes: int64(6), object(5)\n",
      "memory usage: 1.6+ MB\n"
     ]
    }
   ],
   "source": [
    "data['train']['df'].info()"
   ]
  },
  {
   "cell_type": "code",
   "execution_count": 8,
   "metadata": {},
   "outputs": [
    {
     "data": {
      "text/plain": [
       "<AxesSubplot: >"
      ]
     },
     "execution_count": 8,
     "metadata": {},
     "output_type": "execute_result"
    },
    {
     "data": {
      "image/png": "[encoded data removed]",
      "text/plain": [
       "<Figure size 640x480 with 1 Axes>"
      ]
     },
     "metadata": {},
     "output_type": "display_data"
    }
   ],
   "source": [
    "data['train']['df']['Rating'].hist()"
   ]
  },
  {
   "cell_type": "code",
   "execution_count": 9,
   "metadata": {},
   "outputs": [],
   "source": [
    "def get_df_copy_fillna(df, columns):\n",
    "    return df[columns].copy().fillna('')"
   ]
  },
  {
   "cell_type": "code",
   "execution_count": 10,
   "metadata": {},
   "outputs": [
    {
     "name": "stdout",
     "output_type": "stream",
     "text": [
      "Removed stopwords: {'too', 'this', 'hers', 'his', 'both', 'him', 'has', 'y', 's', \"haven't\", \"mightn't\", \"shouldn't\", 'so', \"it's\", 'now', 'mustn', 'your', 'we', 'of', 'about', 'up', 'a', \"hadn't\", 'hasn', 'm', 'their', 'theirs', 'what', \"aren't\", 'don', 'my', 'you', \"that'll\", \"isn't\", 'she', 'from', 'why', 'such', 'hadn', 'will', 'them', 'is', 'have', 'our', \"you've\", 'himself', 'nor', 'shan', 'down', 'shouldn', 'ain', 'which', 'these', 'same', 'yourself', \"mustn't\", 'further', 'needn', 'its', 'the', 'then', 'doesn', 'haven', \"wouldn't\", \"she's\", 'itself', 'by', 'who', 'when', 'few', 'isn', \"didn't\", 'wasn', 'or', 'out', 'does', 'other', 'he', 'very', 'having', 'where', 'aren', \"you'll\", \"wasn't\", 'each', \"should've\", 'over', 'am', \"won't\", 'how', 'wouldn', 'only', \"hasn't\", 'just', \"needn't\", \"doesn't\", 'because', 'didn', \"you'd\", 'being', 've', 'ourselves', 'herself', 't', 'and', 'as', 'll', 'me', 'that', 'at', 'under', 're', 'yourselves', 'any', 'once', 'been', \"you're\", 'did', \"don't\", 'won', 'most', 'in', 'had', 'off', 'yours', 'doing', 'some', 'than', 'here', 'all', 'ma', 'an', 'whom', \"couldn't\", 'weren', 'can', 'with', 'themselves', 'do', 'after', 'again', 'more', 'to', 'before', \"shan't\", 'o', 'on', 'was', 'they', 'd', 'i', 'myself', 'should', 'while', \"weren't\", 'during', 'her', 'if', 'between', 'those', 'couldn', 'for', 'it', 'own', 'into', 'were', 'mightn', 'be', 'until', 'there', 'through', 'are', 'ours', 'but'}\n"
     ]
    }
   ],
   "source": [
    "tokenizer = TweetTokenizer()\n",
    "stop_words = set(stopwords.words(\"english\"))\n",
    "keep_stop_words = ['not', 'no', 'against', 'above', 'below']\n",
    "for word in keep_stop_words:\n",
    "    stop_words.remove(word)\n",
    "print('Removed stopwords:', stop_words)\n",
    "lemmatizer = WordNetLemmatizer()\n",
    "\n",
    "def tokenize_text(text: str):\n",
    "    if (not isinstance(text, str)):\n",
    "        raise ValueError(f\"The text {text} isn't a string!\")\n",
    "\n",
    "    # Change 't to 'not'\n",
    "    text = re.sub(r\"n\\'t\", \" not\", text)\n",
    "    \n",
    "    text = text.lower()\n",
    "\n",
    "    word_tokens = tokenizer.tokenize(text)\n",
    "\n",
    "    filtered_words_tokens = [w for w in word_tokens if not w in stop_words]\n",
    "\n",
    "    lemmatized_text = [lemmatizer.lemmatize(w) for w in filtered_words_tokens]\n",
    "    \n",
    "    return ' '.join(lemmatized_text)"
   ]
  },
  {
   "cell_type": "code",
   "execution_count": 11,
   "metadata": {},
   "outputs": [],
   "source": [
    "def get_tokenized_X(X):\n",
    "    return [tokenize_text(text) for text in X]"
   ]
  },
  {
   "cell_type": "code",
   "execution_count": 12,
   "metadata": {},
   "outputs": [],
   "source": [
    "def get_tfidf_vectorizer(X_train, ngram_range=(1, 1)):\n",
    "    # settings inspired by https://www.linkedin.com/pulse/another-twitter-sentiment-analysis-python-part-5-tfidf-ricky-kim/\n",
    "    # TODO consider options: max_df=0.9, min_df=2\n",
    "    tfidf_vectorizer = TfidfVectorizer(ngram_range=ngram_range)\n",
    "    tfidf_vectorizer.fit(get_tokenized_X(X_train))\n",
    "\n",
    "    return tfidf_vectorizer"
   ]
  },
  {
   "cell_type": "code",
   "execution_count": 13,
   "metadata": {},
   "outputs": [],
   "source": [
    "def get_vectorized_X(X, vectorizer):\n",
    "    tokenized_X = get_tokenized_X(X)\n",
    "\n",
    "    vectorized_X = vectorizer.transform(tokenized_X)\n",
    "\n",
    "    return vectorized_X.toarray()"
   ]
  },
  {
   "cell_type": "code",
   "execution_count": 15,
   "metadata": {},
   "outputs": [
    {
     "data": {
      "text/html": [
       "<div>\n",
       "<style scoped>\n",
       "    .dataframe tbody tr th:only-of-type {\n",
       "        vertical-align: middle;\n",
       "    }\n",
       "\n",
       "    .dataframe tbody tr th {\n",
       "        vertical-align: top;\n",
       "    }\n",
       "\n",
       "    .dataframe thead th {\n",
       "        text-align: right;\n",
       "    }\n",
       "</style>\n",
       "<table border=\"1\" class=\"dataframe\">\n",
       "  <thead>\n",
       "    <tr style=\"text-align: right;\">\n",
       "      <th></th>\n",
       "      <th>Title</th>\n",
       "      <th>Rating</th>\n",
       "    </tr>\n",
       "  </thead>\n",
       "  <tbody>\n",
       "    <tr>\n",
       "      <th>0</th>\n",
       "      <td></td>\n",
       "      <td>4</td>\n",
       "    </tr>\n",
       "    <tr>\n",
       "      <th>1</th>\n",
       "      <td></td>\n",
       "      <td>5</td>\n",
       "    </tr>\n",
       "  </tbody>\n",
       "</table>\n",
       "</div>"
      ],
      "text/plain": [
       "  Title  Rating\n",
       "0             4\n",
       "1             5"
      ]
     },
     "execution_count": 15,
     "metadata": {},
     "output_type": "execute_result"
    }
   ],
   "source": [
    "X_y_train_title_rating = get_df_copy_fillna(data['train']['df'], ['Title', 'Rating'])\n",
    "X_y_valid_title_rating = get_df_copy_fillna(data['valid']['df'], ['Title', 'Rating'])\n",
    "X_y_test_title_rating = get_df_copy_fillna(data['test']['df'], ['Title', 'Rating'])\n",
    "\n",
    "X_y_train_title_rating.head(2)"
   ]
  },
  {
   "cell_type": "code",
   "execution_count": 16,
   "metadata": {},
   "outputs": [
    {
     "data": {
      "text/html": [
       "<div>\n",
       "<style scoped>\n",
       "    .dataframe tbody tr th:only-of-type {\n",
       "        vertical-align: middle;\n",
       "    }\n",
       "\n",
       "    .dataframe tbody tr th {\n",
       "        vertical-align: top;\n",
       "    }\n",
       "\n",
       "    .dataframe thead th {\n",
       "        text-align: right;\n",
       "    }\n",
       "</style>\n",
       "<table border=\"1\" class=\"dataframe\">\n",
       "  <thead>\n",
       "    <tr style=\"text-align: right;\">\n",
       "      <th></th>\n",
       "      <th>Review Text</th>\n",
       "      <th>Rating</th>\n",
       "    </tr>\n",
       "  </thead>\n",
       "  <tbody>\n",
       "    <tr>\n",
       "      <th>0</th>\n",
       "      <td>Absolutely wonderful - silky and sexy and comf...</td>\n",
       "      <td>4</td>\n",
       "    </tr>\n",
       "    <tr>\n",
       "      <th>1</th>\n",
       "      <td>Love this dress!  it's sooo pretty.  i happene...</td>\n",
       "      <td>5</td>\n",
       "    </tr>\n",
       "  </tbody>\n",
       "</table>\n",
       "</div>"
      ],
      "text/plain": [
       "                                         Review Text  Rating\n",
       "0  Absolutely wonderful - silky and sexy and comf...       4\n",
       "1  Love this dress!  it's sooo pretty.  i happene...       5"
      ]
     },
     "execution_count": 16,
     "metadata": {},
     "output_type": "execute_result"
    }
   ],
   "source": [
    "X_y_train_reviewtext_rating = get_df_copy_fillna(data['train']['df'], ['Review Text', 'Rating'])\n",
    "X_y_valid_reviewtext_rating = get_df_copy_fillna(data['valid']['df'], ['Review Text', 'Rating'])\n",
    "X_y_test_reviewtext_rating = get_df_copy_fillna(data['test']['df'], ['Review Text', 'Rating'])\n",
    "\n",
    "X_y_train_reviewtext_rating.head(2)"
   ]
  },
  {
   "cell_type": "code",
   "execution_count": 17,
   "metadata": {},
   "outputs": [],
   "source": [
    "title_vectorizer = get_tfidf_vectorizer(X_y_train_title_rating['Title'], (1, 3))\n",
    "reviewtext_vectorizer = get_tfidf_vectorizer(X_y_train_reviewtext_rating['Review Text'], (1, 3))"
   ]
  },
  {
   "cell_type": "code",
   "execution_count": 18,
   "metadata": {},
   "outputs": [],
   "source": [
    "X_train_title = get_vectorized_X(X_y_train_title_rating['Title'], title_vectorizer)\n",
    "X_valid_title = get_vectorized_X(X_y_valid_title_rating['Title'], title_vectorizer)\n",
    "\n",
    "X_train_reviewtext = get_vectorized_X(X_y_train_reviewtext_rating['Review Text'], reviewtext_vectorizer)\n",
    "X_valid_reviewtext = get_vectorized_X(X_y_valid_reviewtext_rating['Review Text'], reviewtext_vectorizer)"
   ]
  },
  {
   "cell_type": "code",
   "execution_count": 20,
   "metadata": {},
   "outputs": [],
   "source": [
    "y_train_title = X_y_train_title_rating['Rating'].tolist()\n",
    "y_valid_title = X_y_valid_title_rating['Rating'].tolist()\n",
    "\n",
    "y_train_reviewtext = X_y_train_reviewtext_rating['Rating'].tolist()\n",
    "y_valid_reviewtext = X_y_valid_reviewtext_rating['Rating'].tolist()"
   ]
  },
  {
   "cell_type": "code",
   "execution_count": 21,
   "metadata": {},
   "outputs": [
    {
     "name": "stdout",
     "output_type": "stream",
     "text": [
      "18790 18790\n",
      "2348 2348\n"
     ]
    }
   ],
   "source": [
    "print(len(X_train_title), len(y_train_title))\n",
    "\n",
    "print(len(X_valid_title), len(y_valid_title))"
   ]
  },
  {
   "cell_type": "code",
   "execution_count": 22,
   "metadata": {},
   "outputs": [
    {
     "name": "stdout",
     "output_type": "stream",
     "text": [
      "Naive Bayes Accuracy:  0.5924190800681431\n"
     ]
    }
   ],
   "source": [
    "nb_title = MultinomialNB()\n",
    "nb_title.fit(X_train_title, y_train_title)\n",
    "y_pred_title = nb_title.predict(X_valid_title)\n",
    "accuracy = accuracy_score(y_valid_title, y_pred_title)\n",
    "print(\"Naive Bayes Accuracy: \", accuracy)"
   ]
  },
  {
   "cell_type": "code",
   "execution_count": 23,
   "metadata": {},
   "outputs": [
    {
     "name": "stdout",
     "output_type": "stream",
     "text": [
      "Logistic Regression Accuracy:  0.6158432708688245\n"
     ]
    }
   ],
   "source": [
    "logreg_title = LogisticRegression(random_state=random_state, solver=\"saga\", max_iter=200)\n",
    "logreg_title.fit(X_train_title, y_train_title)\n",
    "y_pred_title = logreg_title.predict(X_valid_title)\n",
    "accuracy = accuracy_score(y_valid_title, y_pred_title)\n",
    "print(\"Logistic Regression Accuracy: \", accuracy)"
   ]
  },
  {
   "attachments": {},
   "cell_type": "markdown",
   "metadata": {},
   "source": [
    "---"
   ]
  },
  {
   "cell_type": "code",
   "execution_count": 24,
   "metadata": {},
   "outputs": [
    {
     "name": "stdout",
     "output_type": "stream",
     "text": [
      "Naive Bayes Accuracy:  0.5549403747870528\n"
     ]
    }
   ],
   "source": [
    "nb_reviewtext = MultinomialNB()\n",
    "nb_reviewtext.fit(X_train_reviewtext, y_train_reviewtext)\n",
    "y_pred_reviewtext = nb_reviewtext.predict(X_valid_reviewtext)\n",
    "accuracy = accuracy_score(y_valid_reviewtext, y_pred_reviewtext)\n",
    "print(\"Naive Bayes Accuracy: \", accuracy)"
   ]
  },
  {
   "cell_type": "code",
   "execution_count": 25,
   "metadata": {},
   "outputs": [],
   "source": [
    "# data['train']['df']['Division Name'].fillna('').unique() # array(['Initmates', 'General', 'General Petite', ''], dtype=object)"
   ]
  },
  {
   "cell_type": "code",
   "execution_count": 30,
   "metadata": {},
   "outputs": [],
   "source": [
    "def get_unique_values(df: pd.Series):\n",
    "    return df.unique().tolist()\n",
    "\n",
    "def preprocess_df(df: pd.DataFrame):\n",
    "    df = df.copy(deep=True)\n",
    "\n",
    "    division_name_unique_values = get_unique_values(df['Division Name'])\n",
    "    df['Division Name Numeric'] = df['Division Name'].apply(division_name_unique_values.index)\n",
    "    df.drop(['Division Name'], axis=1, inplace=True)\n",
    "\n",
    "    department_name_unique_values = get_unique_values(df['Department Name'])\n",
    "    df['Department Name Numeric'] = df['Department Name'].apply(department_name_unique_values.index)\n",
    "    df.drop(['Department Name'], axis=1, inplace=True)\n",
    "\n",
    "    class_name_unique_values = get_unique_values(df['Class Name'])\n",
    "    df['Class Name Numeric'] = df['Class Name'].apply(class_name_unique_values.index)\n",
    "    df.drop(['Class Name'], axis=1, inplace=True)\n",
    "\n",
    "    X_title = get_vectorized_X(get_df_copy_fillna(df, ['Title'])['Title'], title_vectorizer)\n",
    "    df['Title Sentiment'] = logreg_title.predict(X_title)\n",
    "    df.drop(['Title'], axis=1, inplace=True)\n",
    "\n",
    "    X_reviewtext = get_vectorized_X(get_df_copy_fillna(df, ['Review Text'])['Review Text'], reviewtext_vectorizer)\n",
    "    df['Review Text Sentiment'] = nb_reviewtext.predict(X_reviewtext)\n",
    "    df.drop(['Review Text'], axis=1, inplace=True)\n",
    "\n",
    "    return df"
   ]
  },
  {
   "cell_type": "code",
   "execution_count": 31,
   "metadata": {},
   "outputs": [
    {
     "name": "stdout",
     "output_type": "stream",
     "text": [
      "--- Preprocessing dataset train...\n"
     ]
    },
    {
     "ename": "",
     "evalue": "",
     "output_type": "error",
     "traceback": [
      "\u001b[1;31mThe Kernel crashed while executing code in the the current cell or a previous cell. Please review the code in the cell(s) to identify a possible cause of the failure. Click <a href='https://aka.ms/vscodeJupyterKernelCrash'>here</a> for more info. View Jupyter <a href='command:jupyter.viewOutput'>log</a> for further details."
     ]
    },
    {
     "ename": "",
     "evalue": "",
     "output_type": "error",
     "traceback": [
      "\u001b[1;31mCanceled future for execute_request message before replies were done"
     ]
    }
   ],
   "source": [
    "for dataset_name in data.keys():\n",
    "    print(f\"--- Preprocessing dataset {dataset_name}...\")\n",
    "\n",
    "    preprocessed_df = preprocess_df(data[dataset_name]['df'])\n",
    "    data[dataset_name]['pp_df'] = preprocessed_df"
   ]
  },
  {
   "cell_type": "code",
   "execution_count": null,
   "metadata": {},
   "outputs": [
    {
     "data": {
      "text/html": [
       "<div>\n",
       "<style scoped>\n",
       "    .dataframe tbody tr th:only-of-type {\n",
       "        vertical-align: middle;\n",
       "    }\n",
       "\n",
       "    .dataframe tbody tr th {\n",
       "        vertical-align: top;\n",
       "    }\n",
       "\n",
       "    .dataframe thead th {\n",
       "        text-align: right;\n",
       "    }\n",
       "</style>\n",
       "<table border=\"1\" class=\"dataframe\">\n",
       "  <thead>\n",
       "    <tr style=\"text-align: right;\">\n",
       "      <th></th>\n",
       "      <th>ID</th>\n",
       "      <th>Clothing ID</th>\n",
       "      <th>Age</th>\n",
       "      <th>Rating</th>\n",
       "      <th>Recommended IND</th>\n",
       "      <th>Positive Feedback Count</th>\n",
       "      <th>Division Name Numeric</th>\n",
       "      <th>Department Name Numeric</th>\n",
       "      <th>Class Name Numeric</th>\n",
       "      <th>Title Sentiment</th>\n",
       "      <th>Review Text Sentiment</th>\n",
       "    </tr>\n",
       "  </thead>\n",
       "  <tbody>\n",
       "    <tr>\n",
       "      <th>0</th>\n",
       "      <td>0</td>\n",
       "      <td>767</td>\n",
       "      <td>33</td>\n",
       "      <td>4</td>\n",
       "      <td>1</td>\n",
       "      <td>0</td>\n",
       "      <td>0</td>\n",
       "      <td>0</td>\n",
       "      <td>0</td>\n",
       "      <td>5</td>\n",
       "      <td>5</td>\n",
       "    </tr>\n",
       "    <tr>\n",
       "      <th>1</th>\n",
       "      <td>1</td>\n",
       "      <td>1080</td>\n",
       "      <td>34</td>\n",
       "      <td>5</td>\n",
       "      <td>1</td>\n",
       "      <td>4</td>\n",
       "      <td>1</td>\n",
       "      <td>1</td>\n",
       "      <td>1</td>\n",
       "      <td>5</td>\n",
       "      <td>5</td>\n",
       "    </tr>\n",
       "    <tr>\n",
       "      <th>2</th>\n",
       "      <td>3</td>\n",
       "      <td>1049</td>\n",
       "      <td>50</td>\n",
       "      <td>5</td>\n",
       "      <td>1</td>\n",
       "      <td>0</td>\n",
       "      <td>2</td>\n",
       "      <td>2</td>\n",
       "      <td>2</td>\n",
       "      <td>5</td>\n",
       "      <td>5</td>\n",
       "    </tr>\n",
       "    <tr>\n",
       "      <th>3</th>\n",
       "      <td>4</td>\n",
       "      <td>847</td>\n",
       "      <td>47</td>\n",
       "      <td>5</td>\n",
       "      <td>1</td>\n",
       "      <td>6</td>\n",
       "      <td>1</td>\n",
       "      <td>3</td>\n",
       "      <td>3</td>\n",
       "      <td>5</td>\n",
       "      <td>5</td>\n",
       "    </tr>\n",
       "    <tr>\n",
       "      <th>4</th>\n",
       "      <td>6</td>\n",
       "      <td>858</td>\n",
       "      <td>39</td>\n",
       "      <td>5</td>\n",
       "      <td>1</td>\n",
       "      <td>1</td>\n",
       "      <td>2</td>\n",
       "      <td>3</td>\n",
       "      <td>4</td>\n",
       "      <td>5</td>\n",
       "      <td>5</td>\n",
       "    </tr>\n",
       "    <tr>\n",
       "      <th>5</th>\n",
       "      <td>9</td>\n",
       "      <td>1077</td>\n",
       "      <td>34</td>\n",
       "      <td>5</td>\n",
       "      <td>1</td>\n",
       "      <td>0</td>\n",
       "      <td>1</td>\n",
       "      <td>1</td>\n",
       "      <td>1</td>\n",
       "      <td>5</td>\n",
       "      <td>5</td>\n",
       "    </tr>\n",
       "    <tr>\n",
       "      <th>6</th>\n",
       "      <td>10</td>\n",
       "      <td>1077</td>\n",
       "      <td>53</td>\n",
       "      <td>3</td>\n",
       "      <td>0</td>\n",
       "      <td>14</td>\n",
       "      <td>1</td>\n",
       "      <td>1</td>\n",
       "      <td>1</td>\n",
       "      <td>3</td>\n",
       "      <td>5</td>\n",
       "    </tr>\n",
       "    <tr>\n",
       "      <th>7</th>\n",
       "      <td>11</td>\n",
       "      <td>1095</td>\n",
       "      <td>39</td>\n",
       "      <td>5</td>\n",
       "      <td>1</td>\n",
       "      <td>2</td>\n",
       "      <td>2</td>\n",
       "      <td>1</td>\n",
       "      <td>1</td>\n",
       "      <td>5</td>\n",
       "      <td>5</td>\n",
       "    </tr>\n",
       "    <tr>\n",
       "      <th>8</th>\n",
       "      <td>13</td>\n",
       "      <td>767</td>\n",
       "      <td>44</td>\n",
       "      <td>5</td>\n",
       "      <td>1</td>\n",
       "      <td>0</td>\n",
       "      <td>0</td>\n",
       "      <td>0</td>\n",
       "      <td>0</td>\n",
       "      <td>4</td>\n",
       "      <td>5</td>\n",
       "    </tr>\n",
       "    <tr>\n",
       "      <th>9</th>\n",
       "      <td>14</td>\n",
       "      <td>1077</td>\n",
       "      <td>50</td>\n",
       "      <td>3</td>\n",
       "      <td>1</td>\n",
       "      <td>1</td>\n",
       "      <td>1</td>\n",
       "      <td>1</td>\n",
       "      <td>1</td>\n",
       "      <td>4</td>\n",
       "      <td>5</td>\n",
       "    </tr>\n",
       "  </tbody>\n",
       "</table>\n",
       "</div>"
      ],
      "text/plain": [
       "   ID  Clothing ID  Age  Rating  Recommended IND  Positive Feedback Count  \\\n",
       "0   0          767   33       4                1                        0   \n",
       "1   1         1080   34       5                1                        4   \n",
       "2   3         1049   50       5                1                        0   \n",
       "3   4          847   47       5                1                        6   \n",
       "4   6          858   39       5                1                        1   \n",
       "5   9         1077   34       5                1                        0   \n",
       "6  10         1077   53       3                0                       14   \n",
       "7  11         1095   39       5                1                        2   \n",
       "8  13          767   44       5                1                        0   \n",
       "9  14         1077   50       3                1                        1   \n",
       "\n",
       "   Division Name Numeric  Department Name Numeric  Class Name Numeric  \\\n",
       "0                      0                        0                   0   \n",
       "1                      1                        1                   1   \n",
       "2                      2                        2                   2   \n",
       "3                      1                        3                   3   \n",
       "4                      2                        3                   4   \n",
       "5                      1                        1                   1   \n",
       "6                      1                        1                   1   \n",
       "7                      2                        1                   1   \n",
       "8                      0                        0                   0   \n",
       "9                      1                        1                   1   \n",
       "\n",
       "   Title Sentiment  Review Text Sentiment  \n",
       "0                5                      5  \n",
       "1                5                      5  \n",
       "2                5                      5  \n",
       "3                5                      5  \n",
       "4                5                      5  \n",
       "5                5                      5  \n",
       "6                3                      5  \n",
       "7                5                      5  \n",
       "8                4                      5  \n",
       "9                4                      5  "
      ]
     },
     "execution_count": 74,
     "metadata": {},
     "output_type": "execute_result"
    }
   ],
   "source": [
    "data['train']['pp_df'].head(10)"
   ]
  },
  {
   "cell_type": "code",
   "execution_count": null,
   "metadata": {},
   "outputs": [
    {
     "name": "stdout",
     "output_type": "stream",
     "text": [
      "[4, 5, 5, 5, 5, 5, 3, 5, 5, 3]\n"
     ]
    }
   ],
   "source": [
    "print([text for text in data['train']['pp_df']['Rating'][:10]])"
   ]
  },
  {
   "cell_type": "code",
   "execution_count": null,
   "metadata": {},
   "outputs": [],
   "source": []
  }
 ],
 "metadata": {
  "kernelspec": {
   "display_name": "gputorch",
   "language": "python",
   "name": "python3"
  },
  "language_info": {
   "codemirror_mode": {
    "name": "ipython",
    "version": 3
   },
   "file_extension": ".py",
   "mimetype": "text/x-python",
   "name": "python",
   "nbconvert_exporter": "python",
   "pygments_lexer": "ipython3",
   "version": "3.10.8"
  },
  "orig_nbformat": 4,
  "vscode": {
   "interpreter": {
    "hash": "2dbbb6cd59b3dbdf4da55c2d28b7f7ae42791a8b99736a7739fce4258f4b207c"
   }
  }
 },
 "nbformat": 4,
 "nbformat_minor": 2
}
